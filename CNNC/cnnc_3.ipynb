{
 "cells": [
  {
   "cell_type": "code",
   "execution_count": 20,
   "metadata": {},
   "outputs": [],
   "source": [
    "import pandas as pd\n",
    "import numpy as np\n",
    "from numpy import *\n",
    "import os\n",
    "import pandas as pd\n",
    "import tqdm\n",
    "import sys\n",
    "import matplotlib.pyplot as plt\n",
    "import plotly.express as px\n",
    "from sklearn.linear_model import LogisticRegression\n",
    "from sklearn.metrics import roc_curve, auc\n",
    "from sklearn import metrics\n",
    "from sklearn.datasets import make_classification\n",
    "%matplotlib inline"
   ]
  },
  {
   "cell_type": "code",
   "execution_count": 21,
   "metadata": {},
   "outputs": [],
   "source": [
    "save_dir = os.path.join(os.getcwd(), 'NEPDF_data_3')\n",
    "if not os.path.isdir(save_dir):\n",
    "    os.makedirs(save_dir)\n",
    "\n",
    "def get_gene_list_bulk(file_name):\n",
    "    \"\"\"\n",
    "    建立基因symbol到ensembl转换的字典\n",
    "    file_name = './data/bulk_gene_list.txt'\n",
    "    \"\"\"\n",
    "    import re\n",
    "    h = {}\n",
    "    s = open(file_name, 'r')  # gene symbol ID list of bulk RNA-seq\n",
    "    for line in s:\n",
    "        search_result = re.search(r'^([^\\s]+)\\s+([^\\s]+)', line)\n",
    "        h[search_result.group(1).lower()] = search_result.group(2)  # h [gene symbol] = gene ID\n",
    "    s.close()\n",
    "    return h\n",
    "\n",
    "\n",
    "def get_gene_list(file_name):\n",
    "    \"\"\"\n",
    "    建立基因symbol到一个id转换的字典\n",
    "    file_name = './data/sc_gene_list.txt'\n",
    "    \"\"\"\n",
    "\n",
    "    import re\n",
    "    h = {}\n",
    "    s = open(file_name, 'r')  # gene symbol ID list of sc RNA-seq\n",
    "    for line in s:\n",
    "        search_result = re.search(r'^([^\\s]+)\\s+([^\\s]+)', line)\n",
    "        h[search_result.group(1).lower()] = search_result.group(2)  # h [gene symbol] = gene ID\n",
    "    s.close()\n",
    "    return h\n",
    "\n",
    "def get_sepration_index(file_name):\n",
    "    import numpy as np\n",
    "    index_list = []\n",
    "    s = open(file_name, 'r')\n",
    "    for line in s:\n",
    "        index_list.append(int(line))\n",
    "    return (np.array(index_list))"
   ]
  },
  {
   "cell_type": "code",
   "execution_count": 22,
   "metadata": {},
   "outputs": [
    {
     "name": "stdout",
     "output_type": "stream",
     "text": [
      "read bulk gene list\n",
      "read sc gene list\n",
      "read bulk RNA-seq expression\n"
     ]
    },
    {
     "data": {
      "text/html": [
       "<div>\n",
       "<style scoped>\n",
       "    .dataframe tbody tr th:only-of-type {\n",
       "        vertical-align: middle;\n",
       "    }\n",
       "\n",
       "    .dataframe tbody tr th {\n",
       "        vertical-align: top;\n",
       "    }\n",
       "\n",
       "    .dataframe thead th {\n",
       "        text-align: right;\n",
       "    }\n",
       "</style>\n",
       "<table border=\"1\" class=\"dataframe\">\n",
       "  <thead>\n",
       "    <tr style=\"text-align: right;\">\n",
       "      <th></th>\n",
       "      <th>ENSMUSG00000000001</th>\n",
       "      <th>ENSMUSG00000000003</th>\n",
       "      <th>ENSMUSG00000000028</th>\n",
       "      <th>ENSMUSG00000000031</th>\n",
       "      <th>ENSMUSG00000000037</th>\n",
       "      <th>ENSMUSG00000000049</th>\n",
       "      <th>ENSMUSG00000000056</th>\n",
       "      <th>ENSMUSG00000000058</th>\n",
       "      <th>ENSMUSG00000000078</th>\n",
       "      <th>ENSMUSG00000000085</th>\n",
       "      <th>...</th>\n",
       "      <th>ENSMUSG00000104518</th>\n",
       "      <th>ENSMUSG00000104519</th>\n",
       "      <th>ENSMUSG00000104520</th>\n",
       "      <th>ENSMUSG00000104521</th>\n",
       "      <th>ENSMUSG00000104522</th>\n",
       "      <th>ENSMUSG00000104523</th>\n",
       "      <th>ENSMUSG00000104524</th>\n",
       "      <th>ENSMUSG00000104525</th>\n",
       "      <th>ENSMUSG00000104526</th>\n",
       "      <th>ENSMUSG00000104527</th>\n",
       "    </tr>\n",
       "  </thead>\n",
       "  <tbody>\n",
       "    <tr>\n",
       "      <th>1</th>\n",
       "      <td>98.09</td>\n",
       "      <td>0.0</td>\n",
       "      <td>17.44</td>\n",
       "      <td>508.80</td>\n",
       "      <td>2.65</td>\n",
       "      <td>1.10</td>\n",
       "      <td>29.60</td>\n",
       "      <td>17.46</td>\n",
       "      <td>29.87</td>\n",
       "      <td>19.86</td>\n",
       "      <td>...</td>\n",
       "      <td>0.0</td>\n",
       "      <td>0.03</td>\n",
       "      <td>0.00</td>\n",
       "      <td>0.0</td>\n",
       "      <td>0.0</td>\n",
       "      <td>4.69</td>\n",
       "      <td>0.43</td>\n",
       "      <td>0.01</td>\n",
       "      <td>0.0</td>\n",
       "      <td>0.0</td>\n",
       "    </tr>\n",
       "    <tr>\n",
       "      <th>2</th>\n",
       "      <td>70.62</td>\n",
       "      <td>0.0</td>\n",
       "      <td>0.93</td>\n",
       "      <td>1.04</td>\n",
       "      <td>0.97</td>\n",
       "      <td>0.40</td>\n",
       "      <td>6.11</td>\n",
       "      <td>166.12</td>\n",
       "      <td>39.71</td>\n",
       "      <td>13.42</td>\n",
       "      <td>...</td>\n",
       "      <td>0.0</td>\n",
       "      <td>0.10</td>\n",
       "      <td>0.00</td>\n",
       "      <td>0.0</td>\n",
       "      <td>0.0</td>\n",
       "      <td>0.00</td>\n",
       "      <td>0.02</td>\n",
       "      <td>0.00</td>\n",
       "      <td>0.0</td>\n",
       "      <td>0.0</td>\n",
       "    </tr>\n",
       "    <tr>\n",
       "      <th>3</th>\n",
       "      <td>9.72</td>\n",
       "      <td>0.0</td>\n",
       "      <td>1.31</td>\n",
       "      <td>0.89</td>\n",
       "      <td>0.10</td>\n",
       "      <td>0.12</td>\n",
       "      <td>26.96</td>\n",
       "      <td>3.86</td>\n",
       "      <td>5.48</td>\n",
       "      <td>25.22</td>\n",
       "      <td>...</td>\n",
       "      <td>0.0</td>\n",
       "      <td>0.08</td>\n",
       "      <td>0.10</td>\n",
       "      <td>0.0</td>\n",
       "      <td>0.0</td>\n",
       "      <td>0.46</td>\n",
       "      <td>0.58</td>\n",
       "      <td>1.92</td>\n",
       "      <td>0.0</td>\n",
       "      <td>0.0</td>\n",
       "    </tr>\n",
       "    <tr>\n",
       "      <th>4</th>\n",
       "      <td>5.26</td>\n",
       "      <td>0.0</td>\n",
       "      <td>0.00</td>\n",
       "      <td>333.47</td>\n",
       "      <td>0.00</td>\n",
       "      <td>0.00</td>\n",
       "      <td>0.00</td>\n",
       "      <td>0.00</td>\n",
       "      <td>0.00</td>\n",
       "      <td>0.00</td>\n",
       "      <td>...</td>\n",
       "      <td>0.0</td>\n",
       "      <td>0.00</td>\n",
       "      <td>0.00</td>\n",
       "      <td>0.0</td>\n",
       "      <td>0.0</td>\n",
       "      <td>0.00</td>\n",
       "      <td>0.00</td>\n",
       "      <td>0.00</td>\n",
       "      <td>0.0</td>\n",
       "      <td>0.0</td>\n",
       "    </tr>\n",
       "    <tr>\n",
       "      <th>5</th>\n",
       "      <td>10.16</td>\n",
       "      <td>0.0</td>\n",
       "      <td>4.11</td>\n",
       "      <td>0.97</td>\n",
       "      <td>0.21</td>\n",
       "      <td>0.00</td>\n",
       "      <td>16.49</td>\n",
       "      <td>31.01</td>\n",
       "      <td>5.53</td>\n",
       "      <td>13.69</td>\n",
       "      <td>...</td>\n",
       "      <td>0.0</td>\n",
       "      <td>0.07</td>\n",
       "      <td>0.00</td>\n",
       "      <td>0.0</td>\n",
       "      <td>0.0</td>\n",
       "      <td>0.00</td>\n",
       "      <td>0.00</td>\n",
       "      <td>0.06</td>\n",
       "      <td>0.0</td>\n",
       "      <td>0.0</td>\n",
       "    </tr>\n",
       "    <tr>\n",
       "      <th>...</th>\n",
       "      <td>...</td>\n",
       "      <td>...</td>\n",
       "      <td>...</td>\n",
       "      <td>...</td>\n",
       "      <td>...</td>\n",
       "      <td>...</td>\n",
       "      <td>...</td>\n",
       "      <td>...</td>\n",
       "      <td>...</td>\n",
       "      <td>...</td>\n",
       "      <td>...</td>\n",
       "      <td>...</td>\n",
       "      <td>...</td>\n",
       "      <td>...</td>\n",
       "      <td>...</td>\n",
       "      <td>...</td>\n",
       "      <td>...</td>\n",
       "      <td>...</td>\n",
       "      <td>...</td>\n",
       "      <td>...</td>\n",
       "      <td>...</td>\n",
       "    </tr>\n",
       "    <tr>\n",
       "      <th>245</th>\n",
       "      <td>94.40</td>\n",
       "      <td>0.0</td>\n",
       "      <td>13.48</td>\n",
       "      <td>88.15</td>\n",
       "      <td>1.66</td>\n",
       "      <td>0.09</td>\n",
       "      <td>41.46</td>\n",
       "      <td>4.13</td>\n",
       "      <td>22.28</td>\n",
       "      <td>38.70</td>\n",
       "      <td>...</td>\n",
       "      <td>0.0</td>\n",
       "      <td>0.06</td>\n",
       "      <td>0.00</td>\n",
       "      <td>0.0</td>\n",
       "      <td>0.0</td>\n",
       "      <td>9.08</td>\n",
       "      <td>0.91</td>\n",
       "      <td>0.03</td>\n",
       "      <td>0.0</td>\n",
       "      <td>0.0</td>\n",
       "    </tr>\n",
       "    <tr>\n",
       "      <th>246</th>\n",
       "      <td>29.23</td>\n",
       "      <td>0.0</td>\n",
       "      <td>0.00</td>\n",
       "      <td>1127.23</td>\n",
       "      <td>0.00</td>\n",
       "      <td>42.59</td>\n",
       "      <td>7.21</td>\n",
       "      <td>0.00</td>\n",
       "      <td>0.00</td>\n",
       "      <td>146.76</td>\n",
       "      <td>...</td>\n",
       "      <td>0.0</td>\n",
       "      <td>0.00</td>\n",
       "      <td>0.00</td>\n",
       "      <td>0.0</td>\n",
       "      <td>0.0</td>\n",
       "      <td>0.00</td>\n",
       "      <td>0.00</td>\n",
       "      <td>0.00</td>\n",
       "      <td>0.0</td>\n",
       "      <td>0.0</td>\n",
       "    </tr>\n",
       "    <tr>\n",
       "      <th>247</th>\n",
       "      <td>45.10</td>\n",
       "      <td>0.0</td>\n",
       "      <td>13.86</td>\n",
       "      <td>0.05</td>\n",
       "      <td>0.00</td>\n",
       "      <td>0.06</td>\n",
       "      <td>62.70</td>\n",
       "      <td>0.00</td>\n",
       "      <td>5.94</td>\n",
       "      <td>24.11</td>\n",
       "      <td>...</td>\n",
       "      <td>0.0</td>\n",
       "      <td>0.00</td>\n",
       "      <td>0.05</td>\n",
       "      <td>0.0</td>\n",
       "      <td>0.0</td>\n",
       "      <td>1.00</td>\n",
       "      <td>0.24</td>\n",
       "      <td>1.23</td>\n",
       "      <td>0.0</td>\n",
       "      <td>0.0</td>\n",
       "    </tr>\n",
       "    <tr>\n",
       "      <th>248</th>\n",
       "      <td>93.01</td>\n",
       "      <td>0.0</td>\n",
       "      <td>31.50</td>\n",
       "      <td>244.73</td>\n",
       "      <td>2.74</td>\n",
       "      <td>2.08</td>\n",
       "      <td>25.99</td>\n",
       "      <td>49.54</td>\n",
       "      <td>20.83</td>\n",
       "      <td>19.69</td>\n",
       "      <td>...</td>\n",
       "      <td>0.0</td>\n",
       "      <td>0.20</td>\n",
       "      <td>0.15</td>\n",
       "      <td>0.0</td>\n",
       "      <td>0.0</td>\n",
       "      <td>3.50</td>\n",
       "      <td>0.30</td>\n",
       "      <td>0.02</td>\n",
       "      <td>0.0</td>\n",
       "      <td>0.0</td>\n",
       "    </tr>\n",
       "    <tr>\n",
       "      <th>249</th>\n",
       "      <td>64.78</td>\n",
       "      <td>0.0</td>\n",
       "      <td>40.43</td>\n",
       "      <td>237.39</td>\n",
       "      <td>0.97</td>\n",
       "      <td>26.44</td>\n",
       "      <td>87.21</td>\n",
       "      <td>2.33</td>\n",
       "      <td>8.95</td>\n",
       "      <td>15.48</td>\n",
       "      <td>...</td>\n",
       "      <td>0.0</td>\n",
       "      <td>0.00</td>\n",
       "      <td>0.08</td>\n",
       "      <td>0.0</td>\n",
       "      <td>0.0</td>\n",
       "      <td>11.34</td>\n",
       "      <td>0.19</td>\n",
       "      <td>0.01</td>\n",
       "      <td>0.0</td>\n",
       "      <td>0.0</td>\n",
       "    </tr>\n",
       "  </tbody>\n",
       "</table>\n",
       "<p>249 rows × 42546 columns</p>\n",
       "</div>"
      ],
      "text/plain": [
       "0    ENSMUSG00000000001  ENSMUSG00000000003  ENSMUSG00000000028  \\\n",
       "1                 98.09                 0.0               17.44   \n",
       "2                 70.62                 0.0                0.93   \n",
       "3                  9.72                 0.0                1.31   \n",
       "4                  5.26                 0.0                0.00   \n",
       "5                 10.16                 0.0                4.11   \n",
       "..                  ...                 ...                 ...   \n",
       "245               94.40                 0.0               13.48   \n",
       "246               29.23                 0.0                0.00   \n",
       "247               45.10                 0.0               13.86   \n",
       "248               93.01                 0.0               31.50   \n",
       "249               64.78                 0.0               40.43   \n",
       "\n",
       "0    ENSMUSG00000000031  ENSMUSG00000000037  ENSMUSG00000000049  \\\n",
       "1                508.80                2.65                1.10   \n",
       "2                  1.04                0.97                0.40   \n",
       "3                  0.89                0.10                0.12   \n",
       "4                333.47                0.00                0.00   \n",
       "5                  0.97                0.21                0.00   \n",
       "..                  ...                 ...                 ...   \n",
       "245               88.15                1.66                0.09   \n",
       "246             1127.23                0.00               42.59   \n",
       "247                0.05                0.00                0.06   \n",
       "248              244.73                2.74                2.08   \n",
       "249              237.39                0.97               26.44   \n",
       "\n",
       "0    ENSMUSG00000000056  ENSMUSG00000000058  ENSMUSG00000000078  \\\n",
       "1                 29.60               17.46               29.87   \n",
       "2                  6.11              166.12               39.71   \n",
       "3                 26.96                3.86                5.48   \n",
       "4                  0.00                0.00                0.00   \n",
       "5                 16.49               31.01                5.53   \n",
       "..                  ...                 ...                 ...   \n",
       "245               41.46                4.13               22.28   \n",
       "246                7.21                0.00                0.00   \n",
       "247               62.70                0.00                5.94   \n",
       "248               25.99               49.54               20.83   \n",
       "249               87.21                2.33                8.95   \n",
       "\n",
       "0    ENSMUSG00000000085  ...  ENSMUSG00000104518  ENSMUSG00000104519  \\\n",
       "1                 19.86  ...                 0.0                0.03   \n",
       "2                 13.42  ...                 0.0                0.10   \n",
       "3                 25.22  ...                 0.0                0.08   \n",
       "4                  0.00  ...                 0.0                0.00   \n",
       "5                 13.69  ...                 0.0                0.07   \n",
       "..                  ...  ...                 ...                 ...   \n",
       "245               38.70  ...                 0.0                0.06   \n",
       "246              146.76  ...                 0.0                0.00   \n",
       "247               24.11  ...                 0.0                0.00   \n",
       "248               19.69  ...                 0.0                0.20   \n",
       "249               15.48  ...                 0.0                0.00   \n",
       "\n",
       "0    ENSMUSG00000104520  ENSMUSG00000104521  ENSMUSG00000104522  \\\n",
       "1                  0.00                 0.0                 0.0   \n",
       "2                  0.00                 0.0                 0.0   \n",
       "3                  0.10                 0.0                 0.0   \n",
       "4                  0.00                 0.0                 0.0   \n",
       "5                  0.00                 0.0                 0.0   \n",
       "..                  ...                 ...                 ...   \n",
       "245                0.00                 0.0                 0.0   \n",
       "246                0.00                 0.0                 0.0   \n",
       "247                0.05                 0.0                 0.0   \n",
       "248                0.15                 0.0                 0.0   \n",
       "249                0.08                 0.0                 0.0   \n",
       "\n",
       "0    ENSMUSG00000104523  ENSMUSG00000104524  ENSMUSG00000104525  \\\n",
       "1                  4.69                0.43                0.01   \n",
       "2                  0.00                0.02                0.00   \n",
       "3                  0.46                0.58                1.92   \n",
       "4                  0.00                0.00                0.00   \n",
       "5                  0.00                0.00                0.06   \n",
       "..                  ...                 ...                 ...   \n",
       "245                9.08                0.91                0.03   \n",
       "246                0.00                0.00                0.00   \n",
       "247                1.00                0.24                1.23   \n",
       "248                3.50                0.30                0.02   \n",
       "249               11.34                0.19                0.01   \n",
       "\n",
       "0    ENSMUSG00000104526  ENSMUSG00000104527  \n",
       "1                   0.0                 0.0  \n",
       "2                   0.0                 0.0  \n",
       "3                   0.0                 0.0  \n",
       "4                   0.0                 0.0  \n",
       "5                   0.0                 0.0  \n",
       "..                  ...                 ...  \n",
       "245                 0.0                 0.0  \n",
       "246                 0.0                 0.0  \n",
       "247                 0.0                 0.0  \n",
       "248                 0.0                 0.0  \n",
       "249                 0.0                 0.0  \n",
       "\n",
       "[249 rows x 42546 columns]"
      ]
     },
     "execution_count": 22,
     "metadata": {},
     "output_type": "execute_result"
    }
   ],
   "source": [
    "mode = '1'  # 0是单分类，1是多分类\n",
    "\n",
    "###########################\n",
    "# 建立基因symbol到ensembl转换的字典\n",
    "\n",
    "# h_gene_list_bulk = get_gene_list_bulk(sys.argv[1])  # 'bulk_gene_list.txt')#\n",
    "h_gene_list_bulk = get_gene_list_bulk('./data/bulk_gene_list.txt')  # 'bulk_gene_list.txt')#\n",
    "print('read bulk gene list')\n",
    "\n",
    "    \n",
    "# h_gene_list = get_gene_list(sys.argv[2])  # 'sc_gene_list.txt')#\n",
    "h_gene_list = get_gene_list('./data/sc_gene_list.txt')  # 'sc_gene_list.txt')#\n",
    "print('read sc gene list')\n",
    "\n",
    "store = pd.HDFStore('./data/mouse_bulk.h5')\n",
    "rpkm_bulk = store['rpkm']\n",
    "store.close()\n",
    "print('read bulk RNA-seq expression')\n",
    "rpkm_bulk"
   ]
  },
  {
   "cell_type": "code",
   "execution_count": 23,
   "metadata": {},
   "outputs": [
    {
     "name": "stdout",
     "output_type": "stream",
     "text": [
      "read sc RNA-seq expression\n"
     ]
    },
    {
     "data": {
      "text/html": [
       "<div>\n",
       "<style scoped>\n",
       "    .dataframe tbody tr th:only-of-type {\n",
       "        vertical-align: middle;\n",
       "    }\n",
       "\n",
       "    .dataframe tbody tr th {\n",
       "        vertical-align: top;\n",
       "    }\n",
       "\n",
       "    .dataframe thead th {\n",
       "        text-align: right;\n",
       "    }\n",
       "</style>\n",
       "<table border=\"1\" class=\"dataframe\">\n",
       "  <thead>\n",
       "    <tr style=\"text-align: right;\">\n",
       "      <th></th>\n",
       "      <th>16334</th>\n",
       "      <th>19241</th>\n",
       "      <th>16333</th>\n",
       "      <th>67945</th>\n",
       "      <th>11461</th>\n",
       "      <th>14526</th>\n",
       "      <th>17105</th>\n",
       "      <th>14325</th>\n",
       "      <th>15874</th>\n",
       "      <th>14319</th>\n",
       "      <th>...</th>\n",
       "      <th>100039574</th>\n",
       "      <th>100040911</th>\n",
       "      <th>100041256</th>\n",
       "      <th>70009</th>\n",
       "      <th>258630</th>\n",
       "      <th>257872</th>\n",
       "      <th>74484</th>\n",
       "      <th>258751</th>\n",
       "      <th>100040786</th>\n",
       "      <th>100042428</th>\n",
       "    </tr>\n",
       "  </thead>\n",
       "  <tbody>\n",
       "    <tr>\n",
       "      <th>0</th>\n",
       "      <td>0.000000e+00</td>\n",
       "      <td>0.000000e+00</td>\n",
       "      <td>0.000000e+00</td>\n",
       "      <td>0.000000e+00</td>\n",
       "      <td>2.193929e+01</td>\n",
       "      <td>0.000000e+00</td>\n",
       "      <td>0.000000e+00</td>\n",
       "      <td>3.147167e+02</td>\n",
       "      <td>0.000000e+00</td>\n",
       "      <td>1.356210e+02</td>\n",
       "      <td>...</td>\n",
       "      <td>0.000000</td>\n",
       "      <td>0.000000</td>\n",
       "      <td>0.000000</td>\n",
       "      <td>0.000000</td>\n",
       "      <td>0.000000</td>\n",
       "      <td>0.000000</td>\n",
       "      <td>0.000000</td>\n",
       "      <td>0.000000</td>\n",
       "      <td>0.000000</td>\n",
       "      <td>0.000000</td>\n",
       "    </tr>\n",
       "    <tr>\n",
       "      <th>1</th>\n",
       "      <td>0.000000e+00</td>\n",
       "      <td>2.457819e+02</td>\n",
       "      <td>0.000000e+00</td>\n",
       "      <td>2.905689e+02</td>\n",
       "      <td>2.910863e+01</td>\n",
       "      <td>0.000000e+00</td>\n",
       "      <td>0.000000e+00</td>\n",
       "      <td>9.941909e+01</td>\n",
       "      <td>0.000000e+00</td>\n",
       "      <td>1.999327e+01</td>\n",
       "      <td>...</td>\n",
       "      <td>0.000000</td>\n",
       "      <td>0.000000</td>\n",
       "      <td>0.000000</td>\n",
       "      <td>0.000000</td>\n",
       "      <td>0.000000</td>\n",
       "      <td>0.000000</td>\n",
       "      <td>0.000000</td>\n",
       "      <td>0.000000</td>\n",
       "      <td>0.000000</td>\n",
       "      <td>0.000000</td>\n",
       "    </tr>\n",
       "    <tr>\n",
       "      <th>2</th>\n",
       "      <td>0.000000e+00</td>\n",
       "      <td>9.406559e+02</td>\n",
       "      <td>0.000000e+00</td>\n",
       "      <td>5.083723e+03</td>\n",
       "      <td>8.434911e+02</td>\n",
       "      <td>0.000000e+00</td>\n",
       "      <td>0.000000e+00</td>\n",
       "      <td>5.218237e+02</td>\n",
       "      <td>0.000000e+00</td>\n",
       "      <td>3.279351e+02</td>\n",
       "      <td>...</td>\n",
       "      <td>0.000000</td>\n",
       "      <td>0.000000</td>\n",
       "      <td>0.000000</td>\n",
       "      <td>0.000000</td>\n",
       "      <td>0.000000</td>\n",
       "      <td>0.000000</td>\n",
       "      <td>0.000000</td>\n",
       "      <td>0.000000</td>\n",
       "      <td>0.000000</td>\n",
       "      <td>0.000000</td>\n",
       "    </tr>\n",
       "    <tr>\n",
       "      <th>3</th>\n",
       "      <td>0.000000e+00</td>\n",
       "      <td>1.536235e+02</td>\n",
       "      <td>0.000000e+00</td>\n",
       "      <td>6.538218e+03</td>\n",
       "      <td>1.273584e+02</td>\n",
       "      <td>0.000000e+00</td>\n",
       "      <td>0.000000e+00</td>\n",
       "      <td>2.982764e+02</td>\n",
       "      <td>0.000000e+00</td>\n",
       "      <td>3.748978e+01</td>\n",
       "      <td>...</td>\n",
       "      <td>0.000000</td>\n",
       "      <td>0.000000</td>\n",
       "      <td>0.000000</td>\n",
       "      <td>0.000000</td>\n",
       "      <td>0.000000</td>\n",
       "      <td>0.000000</td>\n",
       "      <td>0.000000</td>\n",
       "      <td>0.000000</td>\n",
       "      <td>0.000000</td>\n",
       "      <td>0.000000</td>\n",
       "    </tr>\n",
       "    <tr>\n",
       "      <th>4</th>\n",
       "      <td>0.000000e+00</td>\n",
       "      <td>0.000000e+00</td>\n",
       "      <td>0.000000e+00</td>\n",
       "      <td>7.472699e+03</td>\n",
       "      <td>5.444369e+02</td>\n",
       "      <td>0.000000e+00</td>\n",
       "      <td>0.000000e+00</td>\n",
       "      <td>0.000000e+00</td>\n",
       "      <td>0.000000e+00</td>\n",
       "      <td>4.580846e+03</td>\n",
       "      <td>...</td>\n",
       "      <td>0.000000</td>\n",
       "      <td>0.000000</td>\n",
       "      <td>0.000000</td>\n",
       "      <td>0.000000</td>\n",
       "      <td>0.000000</td>\n",
       "      <td>0.000000</td>\n",
       "      <td>0.000000</td>\n",
       "      <td>0.000000</td>\n",
       "      <td>0.000000</td>\n",
       "      <td>0.000000</td>\n",
       "    </tr>\n",
       "    <tr>\n",
       "      <th>...</th>\n",
       "      <td>...</td>\n",
       "      <td>...</td>\n",
       "      <td>...</td>\n",
       "      <td>...</td>\n",
       "      <td>...</td>\n",
       "      <td>...</td>\n",
       "      <td>...</td>\n",
       "      <td>...</td>\n",
       "      <td>...</td>\n",
       "      <td>...</td>\n",
       "      <td>...</td>\n",
       "      <td>...</td>\n",
       "      <td>...</td>\n",
       "      <td>...</td>\n",
       "      <td>...</td>\n",
       "      <td>...</td>\n",
       "      <td>...</td>\n",
       "      <td>...</td>\n",
       "      <td>...</td>\n",
       "      <td>...</td>\n",
       "      <td>...</td>\n",
       "    </tr>\n",
       "    <tr>\n",
       "      <th>43257</th>\n",
       "      <td>0.000000e+00</td>\n",
       "      <td>5.205293e+02</td>\n",
       "      <td>0.000000e+00</td>\n",
       "      <td>1.869346e+03</td>\n",
       "      <td>7.449986e+01</td>\n",
       "      <td>0.000000e+00</td>\n",
       "      <td>1.096784e+02</td>\n",
       "      <td>2.720297e+02</td>\n",
       "      <td>0.000000e+00</td>\n",
       "      <td>2.119224e+02</td>\n",
       "      <td>...</td>\n",
       "      <td>0.000000</td>\n",
       "      <td>0.000000</td>\n",
       "      <td>0.000000</td>\n",
       "      <td>0.000000</td>\n",
       "      <td>0.000000</td>\n",
       "      <td>0.000000</td>\n",
       "      <td>0.000000</td>\n",
       "      <td>0.000000</td>\n",
       "      <td>0.000000</td>\n",
       "      <td>0.000000</td>\n",
       "    </tr>\n",
       "    <tr>\n",
       "      <th>43258</th>\n",
       "      <td>0.000000e+00</td>\n",
       "      <td>4.858365e+02</td>\n",
       "      <td>0.000000e+00</td>\n",
       "      <td>1.907954e+03</td>\n",
       "      <td>5.982620e+01</td>\n",
       "      <td>0.000000e+00</td>\n",
       "      <td>6.224225e+01</td>\n",
       "      <td>2.491531e+02</td>\n",
       "      <td>0.000000e+00</td>\n",
       "      <td>2.083351e+02</td>\n",
       "      <td>...</td>\n",
       "      <td>0.000000</td>\n",
       "      <td>0.000000</td>\n",
       "      <td>0.000000</td>\n",
       "      <td>0.000000</td>\n",
       "      <td>0.000000</td>\n",
       "      <td>0.000000</td>\n",
       "      <td>0.000000</td>\n",
       "      <td>0.000000</td>\n",
       "      <td>0.000000</td>\n",
       "      <td>0.000000</td>\n",
       "    </tr>\n",
       "    <tr>\n",
       "      <th>43259</th>\n",
       "      <td>0.000000e+00</td>\n",
       "      <td>4.489635e+02</td>\n",
       "      <td>0.000000e+00</td>\n",
       "      <td>1.794583e+03</td>\n",
       "      <td>6.731790e+01</td>\n",
       "      <td>0.000000e+00</td>\n",
       "      <td>6.560221e+01</td>\n",
       "      <td>2.580571e+02</td>\n",
       "      <td>0.000000e+00</td>\n",
       "      <td>1.971801e+02</td>\n",
       "      <td>...</td>\n",
       "      <td>0.000000</td>\n",
       "      <td>0.000000</td>\n",
       "      <td>0.000000</td>\n",
       "      <td>0.000000</td>\n",
       "      <td>0.000000</td>\n",
       "      <td>0.000000</td>\n",
       "      <td>0.000000</td>\n",
       "      <td>0.000000</td>\n",
       "      <td>0.000000</td>\n",
       "      <td>0.000000</td>\n",
       "    </tr>\n",
       "    <tr>\n",
       "      <th>43260</th>\n",
       "      <td>0.000000e+00</td>\n",
       "      <td>5.412184e+02</td>\n",
       "      <td>0.000000e+00</td>\n",
       "      <td>2.409926e+03</td>\n",
       "      <td>7.791660e+01</td>\n",
       "      <td>0.000000e+00</td>\n",
       "      <td>6.202283e+01</td>\n",
       "      <td>3.226542e+02</td>\n",
       "      <td>0.000000e+00</td>\n",
       "      <td>2.344477e+02</td>\n",
       "      <td>...</td>\n",
       "      <td>0.000000</td>\n",
       "      <td>0.000000</td>\n",
       "      <td>0.000000</td>\n",
       "      <td>0.000000</td>\n",
       "      <td>0.000000</td>\n",
       "      <td>0.000000</td>\n",
       "      <td>0.000000</td>\n",
       "      <td>0.000000</td>\n",
       "      <td>0.000000</td>\n",
       "      <td>0.000000</td>\n",
       "    </tr>\n",
       "    <tr>\n",
       "      <th>43261</th>\n",
       "      <td>7.054154e+08</td>\n",
       "      <td>2.802768e+08</td>\n",
       "      <td>2.789838e+08</td>\n",
       "      <td>2.163453e+08</td>\n",
       "      <td>1.570280e+08</td>\n",
       "      <td>1.558860e+08</td>\n",
       "      <td>1.449845e+08</td>\n",
       "      <td>1.386922e+08</td>\n",
       "      <td>1.336553e+08</td>\n",
       "      <td>1.328046e+08</td>\n",
       "      <td>...</td>\n",
       "      <td>188.919515</td>\n",
       "      <td>176.319872</td>\n",
       "      <td>149.607885</td>\n",
       "      <td>141.058028</td>\n",
       "      <td>120.586434</td>\n",
       "      <td>111.042229</td>\n",
       "      <td>100.027533</td>\n",
       "      <td>93.954499</td>\n",
       "      <td>82.858441</td>\n",
       "      <td>81.123154</td>\n",
       "    </tr>\n",
       "  </tbody>\n",
       "</table>\n",
       "<p>43262 rows × 20463 columns</p>\n",
       "</div>"
      ],
      "text/plain": [
       "          16334         19241         16333         67945         11461      \\\n",
       "0      0.000000e+00  0.000000e+00  0.000000e+00  0.000000e+00  2.193929e+01   \n",
       "1      0.000000e+00  2.457819e+02  0.000000e+00  2.905689e+02  2.910863e+01   \n",
       "2      0.000000e+00  9.406559e+02  0.000000e+00  5.083723e+03  8.434911e+02   \n",
       "3      0.000000e+00  1.536235e+02  0.000000e+00  6.538218e+03  1.273584e+02   \n",
       "4      0.000000e+00  0.000000e+00  0.000000e+00  7.472699e+03  5.444369e+02   \n",
       "...             ...           ...           ...           ...           ...   \n",
       "43257  0.000000e+00  5.205293e+02  0.000000e+00  1.869346e+03  7.449986e+01   \n",
       "43258  0.000000e+00  4.858365e+02  0.000000e+00  1.907954e+03  5.982620e+01   \n",
       "43259  0.000000e+00  4.489635e+02  0.000000e+00  1.794583e+03  6.731790e+01   \n",
       "43260  0.000000e+00  5.412184e+02  0.000000e+00  2.409926e+03  7.791660e+01   \n",
       "43261  7.054154e+08  2.802768e+08  2.789838e+08  2.163453e+08  1.570280e+08   \n",
       "\n",
       "          14526         17105         14325         15874         14319      \\\n",
       "0      0.000000e+00  0.000000e+00  3.147167e+02  0.000000e+00  1.356210e+02   \n",
       "1      0.000000e+00  0.000000e+00  9.941909e+01  0.000000e+00  1.999327e+01   \n",
       "2      0.000000e+00  0.000000e+00  5.218237e+02  0.000000e+00  3.279351e+02   \n",
       "3      0.000000e+00  0.000000e+00  2.982764e+02  0.000000e+00  3.748978e+01   \n",
       "4      0.000000e+00  0.000000e+00  0.000000e+00  0.000000e+00  4.580846e+03   \n",
       "...             ...           ...           ...           ...           ...   \n",
       "43257  0.000000e+00  1.096784e+02  2.720297e+02  0.000000e+00  2.119224e+02   \n",
       "43258  0.000000e+00  6.224225e+01  2.491531e+02  0.000000e+00  2.083351e+02   \n",
       "43259  0.000000e+00  6.560221e+01  2.580571e+02  0.000000e+00  1.971801e+02   \n",
       "43260  0.000000e+00  6.202283e+01  3.226542e+02  0.000000e+00  2.344477e+02   \n",
       "43261  1.558860e+08  1.449845e+08  1.386922e+08  1.336553e+08  1.328046e+08   \n",
       "\n",
       "       ...   100039574   100040911   100041256   70009       258630     \\\n",
       "0      ...    0.000000    0.000000    0.000000    0.000000    0.000000   \n",
       "1      ...    0.000000    0.000000    0.000000    0.000000    0.000000   \n",
       "2      ...    0.000000    0.000000    0.000000    0.000000    0.000000   \n",
       "3      ...    0.000000    0.000000    0.000000    0.000000    0.000000   \n",
       "4      ...    0.000000    0.000000    0.000000    0.000000    0.000000   \n",
       "...    ...         ...         ...         ...         ...         ...   \n",
       "43257  ...    0.000000    0.000000    0.000000    0.000000    0.000000   \n",
       "43258  ...    0.000000    0.000000    0.000000    0.000000    0.000000   \n",
       "43259  ...    0.000000    0.000000    0.000000    0.000000    0.000000   \n",
       "43260  ...    0.000000    0.000000    0.000000    0.000000    0.000000   \n",
       "43261  ...  188.919515  176.319872  149.607885  141.058028  120.586434   \n",
       "\n",
       "        257872      74484      258751     100040786  100042428  \n",
       "0        0.000000    0.000000   0.000000   0.000000   0.000000  \n",
       "1        0.000000    0.000000   0.000000   0.000000   0.000000  \n",
       "2        0.000000    0.000000   0.000000   0.000000   0.000000  \n",
       "3        0.000000    0.000000   0.000000   0.000000   0.000000  \n",
       "4        0.000000    0.000000   0.000000   0.000000   0.000000  \n",
       "...           ...         ...        ...        ...        ...  \n",
       "43257    0.000000    0.000000   0.000000   0.000000   0.000000  \n",
       "43258    0.000000    0.000000   0.000000   0.000000   0.000000  \n",
       "43259    0.000000    0.000000   0.000000   0.000000   0.000000  \n",
       "43260    0.000000    0.000000   0.000000   0.000000   0.000000  \n",
       "43261  111.042229  100.027533  93.954499  82.858441  81.123154  \n",
       "\n",
       "[43262 rows x 20463 columns]"
      ]
     },
     "execution_count": 23,
     "metadata": {},
     "output_type": "execute_result"
    }
   ],
   "source": [
    "store = pd.HDFStore('./data/rank_total_gene_rpkm.h5')  # '/home/yey3/sc_process_1/rank_total_gene_rpkm.h5')    # scRNA-seq expression data                        )#\n",
    "rpkm = store['rpkm']\n",
    "store.close()\n",
    "print('read sc RNA-seq expression')\n",
    "rpkm"
   ]
  },
  {
   "cell_type": "code",
   "execution_count": 5,
   "metadata": {},
   "outputs": [
    {
     "name": "stdout",
     "output_type": "stream",
     "text": [
      "3057\n",
      "61648.0\n"
     ]
    }
   ],
   "source": [
    "gene_pair_label = []\n",
    "# s = open(sys.argv[3])  # 'mmukegg_new_new_unique_rand_labelx.txt')#)   ### read the gene pair and label file\n",
    "s = open('./data/mmukegg_new_new_unique_rand_labelx.txt')\n",
    "for line in s:\n",
    "    gene_pair_label.append(line)\n",
    "# gene_pair_index = get_sepration_index(\n",
    "#     sys.argv[4])  # 'mmukegg_new_new_unique_rand_labelx_num.npy')#sys.argv[6]) # read file speration index\n",
    "gene_pair_index = get_sepration_index('./data/mmukegg_new_new_unique_rand_labelx_num.txt')\n",
    "s.close()\n",
    "gene_pair_label_array = array(gene_pair_label)\n",
    "print(len(gene_pair_index)-1)\n",
    "print(len(gene_pair_label_array)*2/3)"
   ]
  },
  {
   "cell_type": "code",
   "execution_count": 6,
   "metadata": {},
   "outputs": [
    {
     "name": "stderr",
     "output_type": "stream",
     "text": [
      "100%|██████████| 3057/3057 [06:16<00:00,  8.12it/s]\n"
     ]
    }
   ],
   "source": [
    "for i in tqdm.tqdm(range(len(gene_pair_index) - 1)):\n",
    "    start_index = gene_pair_index[i]\n",
    "    end_index = gene_pair_index[i+1]\n",
    "    x = []\n",
    "    y = []\n",
    "    z = []\n",
    "    for gene_pair in gene_pair_label_array[start_index:end_index]: ## each speration\n",
    "        separation = gene_pair.split()\n",
    "        x_gene_name,y_gene_name,label = separation[0],separation[1],separation[2]\n",
    "        if label == '1' or label == '0':\n",
    "            y.append(label)\n",
    "            z.append(x_gene_name+'\\t'+y_gene_name)\n",
    "\n",
    "            x_tf_bulk = log10(rpkm_bulk[h_gene_list_bulk[x_gene_name]][0:249] + 10 ** -2)  ## 249 means the number of samples, users can just remove '[0:249]'\n",
    "            x_gene_bulk = log10(rpkm_bulk[h_gene_list_bulk[y_gene_name]][0:249] + 10 ** -2)\n",
    "            H_T_bulk = histogram2d(x_tf_bulk, x_gene_bulk, bins=32)\n",
    "            H_bulk= H_T_bulk[0].T\n",
    "            HT_bulk = (log10(H_bulk / 43261 + 10 ** -4) + 4)/4\n",
    "\n",
    "            x_tf = log10(rpkm[int(h_gene_list[x_gene_name])][0:43261] + 10 ** -2) # ## 43261 means the number of samples in the sc data, we also have one row that is sum of all cells, so the real size is 43262, that is why we use [0:43261]. For TF target prediction or other data, just remove \"[0:43261]\"\n",
    "            x_gene = log10(rpkm[int(h_gene_list[y_gene_name])][0:43261] + 10 ** -2)# For TF target prediction, remove \"[0:43261]\"\n",
    "            H_T = histogram2d(x_tf, x_gene, bins=32)\n",
    "            H = H_T[0].T\n",
    "            HT = (log10(H / 43261 + 10 ** -4) + 4) / 4\n",
    "\n",
    "            x.append(concatenate((HT, HT_bulk), axis=0))\n",
    "        \n",
    "    if (len(x)>0):\n",
    "        xx = array(x)[:, :, :, newaxis]\n",
    "    else:\n",
    "        xx = array(x)\n",
    "    save(save_dir+'/Nxdata_tf' + str(i) + '.npy', xx)\n",
    "    save(save_dir+'/ydata_tf' + str(i) + '.npy', array(y))\n",
    "    save(save_dir+'/zdata_tf' + str(i) + '.npy', array(z))"
   ]
  },
  {
   "cell_type": "code",
   "execution_count": 1,
   "metadata": {},
   "outputs": [],
   "source": [
    "from __future__ import print_function\n",
    "import keras\n",
    "import pandas as pd\n",
    "from keras.preprocessing.image import ImageDataGenerator\n",
    "from keras.models import Sequential\n",
    "from keras.layers import Dense, Dropout, Activation, Flatten\n",
    "from keras.layers import Conv2D, MaxPooling2D\n",
    "from keras.optimizers import SGD\n",
    "from keras.callbacks import EarlyStopping,ModelCheckpoint\n",
    "import os,sys\n",
    "import tqdm\n",
    "import numpy as np\n",
    "import matplotlib\n",
    "matplotlib.use('Agg')\n",
    "import matplotlib.pyplot as plt\n",
    "from sklearn import metrics\n",
    "from scipy import interp\n",
    "import plotly.express as px\n",
    "%matplotlib inline"
   ]
  },
  {
   "cell_type": "code",
   "execution_count": 2,
   "metadata": {},
   "outputs": [],
   "source": [
    "data_path = './NEPDF_data_3'\n",
    "# num_predictions = 20\n",
    "batch_size = 1024  # mini batch for training\n",
    "num_classes = 2   #### categories of labels\n",
    "epochs = 300     #### iterations of trainning, with GPU 1080, 600 for KEGG and Reactome, 200 for tasks for GTRD\n",
    "length_TF = 3057  # number of divide data parts\n",
    "# num_predictions = 20\n",
    "model_name = 'keras_cnn_trained_model_shallow.h5'"
   ]
  },
  {
   "cell_type": "code",
   "execution_count": 3,
   "metadata": {},
   "outputs": [],
   "source": [
    "def load_data_TF2(indel_list,data_path): # cell type specific  ## random samples for reactome is not enough, need borrow some from keggp\n",
    "    import random\n",
    "    import numpy as np\n",
    "    xxdata_list = []\n",
    "    yydata = []\n",
    "    count_set = [0]\n",
    "    count_setx = 0\n",
    "    for i in indel_list:#len(h_tf_sc)):\n",
    "        xdata = np.load(data_path+'/Nxdata_tf' + str(i) + '.npy')\n",
    "        ydata = np.load(data_path+'/ydata_tf' + str(i) + '.npy')\n",
    "        for k in range(len(ydata)):\n",
    "            xxdata_list.append(xdata[k,:,:,:])\n",
    "            yydata.append(ydata[k])\n",
    "        count_setx = count_setx + len(ydata)\n",
    "        count_set.append(count_setx)\n",
    "    yydata_array = np.array(yydata)\n",
    "    yydata_x = yydata_array.astype('int')\n",
    "    print(np.array(xxdata_list).shape)\n",
    "    return((np.array(xxdata_list),yydata_x,count_set))"
   ]
  },
  {
   "cell_type": "code",
   "execution_count": 4,
   "metadata": {},
   "outputs": [],
   "source": [
    "save_dir = os.path.join(os.getcwd(),'YYYY_saved_models_T_32-32-64-64-128-128-512_e'+str(epochs)) ## the result folder \n",
    "if not os.path.isdir(save_dir):\n",
    "    os.makedirs(save_dir)"
   ]
  },
  {
   "cell_type": "code",
   "execution_count": 5,
   "metadata": {},
   "outputs": [
    {
     "name": "stdout",
     "output_type": "stream",
     "text": [
      "(44730, 64, 32, 1)\n",
      "(16918, 64, 32, 1)\n",
      "(44730,) y_train samples\n",
      "(16918,) y_test samples\n"
     ]
    }
   ],
   "source": [
    "whole_data_TF = [i for i in range(length_TF)]\n",
    "test_indel = 2\n",
    "test_TF = [i for i in range(int(np.ceil((test_indel-1)*0.333*length_TF)),int(np.ceil(test_indel*0.333*length_TF)))]         \n",
    "train_TF = [i for i in whole_data_TF if i not in test_TF]                                                                    \n",
    "(x_train, y_train, count_set_train) = load_data_TF2(train_TF,data_path)\n",
    "(x_test, y_test, count_set) = load_data_TF2(test_TF,data_path)\n",
    "if num_classes > 2:\n",
    "    y_train = keras.utils.to_categorical(y_train, num_classes)\n",
    "    y_test = keras.utils.to_categorical(y_test, num_classes)\n",
    "print(y_train.shape, 'y_train samples')\n",
    "print(y_test.shape, 'y_test samples')"
   ]
  },
  {
   "cell_type": "code",
   "execution_count": 6,
   "metadata": {},
   "outputs": [],
   "source": [
    "model = Sequential()\n",
    "model.add(Conv2D(32, (3, 3), padding='same',\n",
    "                 input_shape=x_train.shape[1:]))\n",
    "model.add(Activation('relu'))\n",
    "model.add(Conv2D(32, (3, 3)))\n",
    "model.add(Activation('relu'))\n",
    "model.add(MaxPooling2D(pool_size=(2, 2)))\n",
    "model.add(Dropout(0.25))\n",
    "\n",
    "model.add(Conv2D(64, (3, 3), padding='same'))\n",
    "model.add(Activation('relu'))\n",
    "model.add(Conv2D(64, (3, 3)))\n",
    "model.add(Activation('relu'))\n",
    "model.add(MaxPooling2D(pool_size=(2, 2)))\n",
    "model.add(Dropout(0.25))\n",
    "\n",
    "model.add(Conv2D(128, (3, 3), padding='same'))\n",
    "model.add(Activation('relu'))\n",
    "model.add(Conv2D(128, (3, 3)))\n",
    "model.add(Activation('relu'))\n",
    "model.add(MaxPooling2D(pool_size=(2, 2)))\n",
    "model.add(Dropout(0.25))\n",
    "\n",
    "model.add(Flatten())\n",
    "model.add(Dense(512))\n",
    "model.add(Activation('relu'))\n",
    "model.add(Dropout(0.5))\n",
    "if num_classes <2:\n",
    "    print ('no enough categories')\n",
    "    sys.exit()\n",
    "elif num_classes == 2:\n",
    "    model.add(Dense(1, activation='sigmoid'))\n",
    "    sgd = SGD(lr=0.01, decay=1e-6, momentum=0.9, nesterov=True)\n",
    "    model.compile(optimizer=sgd,loss='binary_crossentropy',metrics=['accuracy'])\n",
    "else:\n",
    "    model.add(Dense(num_classes))\n",
    "    model.add(Activation('softmax'))\n",
    "    sgd = SGD(lr=0.01, decay=1e-6, momentum=0.9, nesterov=True)\n",
    "    model.compile(optimizer=sgd,loss='categorical_crossentropy',metrics=['accuracy'])"
   ]
  },
  {
   "cell_type": "code",
   "execution_count": 7,
   "metadata": {},
   "outputs": [
    {
     "name": "stdout",
     "output_type": "stream",
     "text": [
      "WARNING:tensorflow:`period` argument is deprecated. Please use `save_freq` to specify the frequency in number of batches seen.\n",
      "WARNING:tensorflow:`period` argument is deprecated. Please use `save_freq` to specify the frequency in number of batches seen.\n",
      "Not using data augmentation.\n"
     ]
    }
   ],
   "source": [
    "early_stopping = keras.callbacks.EarlyStopping(monitor='val_accuracy', patience=50, verbose=False, mode='auto')\n",
    "checkpoint1 = ModelCheckpoint(filepath=save_dir + '/weights.{epoch:02d}-{val_loss:.2f}.hdf5', monitor='val_loss',\n",
    "                              verbose=False, save_best_only=False, save_weights_only=False, mode='auto', period=1)\n",
    "checkpoint2 = ModelCheckpoint(filepath=save_dir + '/weights.hdf5', monitor='val_accuracy', verbose=False,\n",
    "                              save_best_only=True, mode='auto', period=1)\n",
    "callbacks_list = [checkpoint2, early_stopping]\n",
    "print('Not using data augmentation.')"
   ]
  },
  {
   "cell_type": "code",
   "execution_count": 8,
   "metadata": {},
   "outputs": [
    {
     "name": "stdout",
     "output_type": "stream",
     "text": [
      "Epoch 1/300\n",
      "35/35 [==============================] - 3s 96ms/step - loss: 0.6927 - accuracy: 0.5435 - val_loss: 0.6918 - val_accuracy: 0.5627\n",
      "Epoch 2/300\n",
      "35/35 [==============================] - 2s 54ms/step - loss: 0.6909 - accuracy: 0.5623 - val_loss: 0.6900 - val_accuracy: 0.5658\n",
      "Epoch 3/300\n",
      "35/35 [==============================] - 2s 49ms/step - loss: 0.6887 - accuracy: 0.5710 - val_loss: 0.6869 - val_accuracy: 0.5649\n",
      "Epoch 4/300\n",
      "35/35 [==============================] - 2s 53ms/step - loss: 0.6851 - accuracy: 0.5696 - val_loss: 0.6816 - val_accuracy: 0.5660\n",
      "Epoch 5/300\n",
      "35/35 [==============================] - 2s 51ms/step - loss: 0.6802 - accuracy: 0.5702 - val_loss: 0.6767 - val_accuracy: 0.5661\n",
      "Epoch 6/300\n",
      "35/35 [==============================] - 2s 50ms/step - loss: 0.6777 - accuracy: 0.5683 - val_loss: 0.6747 - val_accuracy: 0.5656\n",
      "Epoch 7/300\n",
      "35/35 [==============================] - 2s 54ms/step - loss: 0.6760 - accuracy: 0.5683 - val_loss: 0.6732 - val_accuracy: 0.5665\n",
      "Epoch 8/300\n",
      "35/35 [==============================] - 2s 52ms/step - loss: 0.6743 - accuracy: 0.5684 - val_loss: 0.6720 - val_accuracy: 0.5730\n",
      "Epoch 9/300\n",
      "35/35 [==============================] - 2s 50ms/step - loss: 0.6723 - accuracy: 0.5718 - val_loss: 0.6702 - val_accuracy: 0.5692\n",
      "Epoch 10/300\n",
      "35/35 [==============================] - 2s 49ms/step - loss: 0.6706 - accuracy: 0.5710 - val_loss: 0.6678 - val_accuracy: 0.5718\n",
      "Epoch 11/300\n",
      "35/35 [==============================] - 2s 50ms/step - loss: 0.6685 - accuracy: 0.5762 - val_loss: 0.6663 - val_accuracy: 0.5696\n",
      "Epoch 12/300\n",
      "35/35 [==============================] - 2s 52ms/step - loss: 0.6650 - accuracy: 0.5821 - val_loss: 0.6640 - val_accuracy: 0.6011\n",
      "Epoch 13/300\n",
      "35/35 [==============================] - 2s 52ms/step - loss: 0.6618 - accuracy: 0.5934 - val_loss: 0.6597 - val_accuracy: 0.5971\n",
      "Epoch 14/300\n",
      "35/35 [==============================] - 2s 53ms/step - loss: 0.6574 - accuracy: 0.6048 - val_loss: 0.6564 - val_accuracy: 0.6088\n",
      "Epoch 15/300\n",
      "35/35 [==============================] - 2s 54ms/step - loss: 0.6517 - accuracy: 0.6183 - val_loss: 0.6527 - val_accuracy: 0.6090\n",
      "Epoch 16/300\n",
      "35/35 [==============================] - 2s 49ms/step - loss: 0.6471 - accuracy: 0.6223 - val_loss: 0.6533 - val_accuracy: 0.6053\n",
      "Epoch 17/300\n",
      "35/35 [==============================] - 2s 52ms/step - loss: 0.6429 - accuracy: 0.6244 - val_loss: 0.6488 - val_accuracy: 0.6165\n",
      "Epoch 18/300\n",
      "35/35 [==============================] - 2s 49ms/step - loss: 0.6376 - accuracy: 0.6290 - val_loss: 0.6429 - val_accuracy: 0.6130\n",
      "Epoch 19/300\n",
      "35/35 [==============================] - 2s 51ms/step - loss: 0.6328 - accuracy: 0.6321 - val_loss: 0.6389 - val_accuracy: 0.6163\n",
      "Epoch 20/300\n",
      "35/35 [==============================] - 2s 59ms/step - loss: 0.6282 - accuracy: 0.6349 - val_loss: 0.6354 - val_accuracy: 0.6203\n",
      "Epoch 21/300\n",
      "35/35 [==============================] - 2s 50ms/step - loss: 0.6227 - accuracy: 0.6382 - val_loss: 0.6356 - val_accuracy: 0.6169\n",
      "Epoch 22/300\n",
      "35/35 [==============================] - 2s 52ms/step - loss: 0.6175 - accuracy: 0.6411 - val_loss: 0.6318 - val_accuracy: 0.6290\n",
      "Epoch 23/300\n",
      "35/35 [==============================] - 2s 53ms/step - loss: 0.6127 - accuracy: 0.6428 - val_loss: 0.6238 - val_accuracy: 0.6316\n",
      "Epoch 24/300\n",
      "35/35 [==============================] - 2s 52ms/step - loss: 0.6070 - accuracy: 0.6474 - val_loss: 0.6234 - val_accuracy: 0.6430\n",
      "Epoch 25/300\n",
      "35/35 [==============================] - 2s 51ms/step - loss: 0.6003 - accuracy: 0.6541 - val_loss: 0.6191 - val_accuracy: 0.6369\n",
      "Epoch 26/300\n",
      "35/35 [==============================] - 2s 50ms/step - loss: 0.5953 - accuracy: 0.6585 - val_loss: 0.6173 - val_accuracy: 0.6345\n",
      "Epoch 27/300\n",
      "35/35 [==============================] - 2s 50ms/step - loss: 0.5896 - accuracy: 0.6586 - val_loss: 0.6165 - val_accuracy: 0.6360\n",
      "Epoch 28/300\n",
      "35/35 [==============================] - 2s 49ms/step - loss: 0.5836 - accuracy: 0.6637 - val_loss: 0.6151 - val_accuracy: 0.6360\n",
      "Epoch 29/300\n",
      "35/35 [==============================] - 2s 50ms/step - loss: 0.5795 - accuracy: 0.6671 - val_loss: 0.6169 - val_accuracy: 0.6392\n",
      "Epoch 30/300\n",
      "35/35 [==============================] - 2s 52ms/step - loss: 0.5719 - accuracy: 0.6765 - val_loss: 0.6153 - val_accuracy: 0.6438\n",
      "Epoch 31/300\n",
      "35/35 [==============================] - 2s 50ms/step - loss: 0.5689 - accuracy: 0.6789 - val_loss: 0.6192 - val_accuracy: 0.6412\n",
      "Epoch 32/300\n",
      "35/35 [==============================] - 2s 50ms/step - loss: 0.5656 - accuracy: 0.6799 - val_loss: 0.6184 - val_accuracy: 0.6280\n",
      "Epoch 33/300\n",
      "35/35 [==============================] - 2s 49ms/step - loss: 0.5611 - accuracy: 0.6864 - val_loss: 0.6199 - val_accuracy: 0.6272\n",
      "Epoch 34/300\n",
      "35/35 [==============================] - 2s 50ms/step - loss: 0.5555 - accuracy: 0.6896 - val_loss: 0.6168 - val_accuracy: 0.6299\n",
      "Epoch 35/300\n",
      "35/35 [==============================] - 2s 50ms/step - loss: 0.5517 - accuracy: 0.6934 - val_loss: 0.6320 - val_accuracy: 0.6050\n",
      "Epoch 36/300\n",
      "35/35 [==============================] - 2s 50ms/step - loss: 0.5467 - accuracy: 0.6967 - val_loss: 0.6775 - val_accuracy: 0.5851\n",
      "Epoch 37/300\n",
      "35/35 [==============================] - 2s 49ms/step - loss: 0.5401 - accuracy: 0.7037 - val_loss: 0.6289 - val_accuracy: 0.6145\n",
      "Epoch 38/300\n",
      "35/35 [==============================] - 2s 50ms/step - loss: 0.5395 - accuracy: 0.7068 - val_loss: 0.6217 - val_accuracy: 0.6145\n",
      "Epoch 39/300\n",
      "35/35 [==============================] - 2s 50ms/step - loss: 0.5290 - accuracy: 0.7107 - val_loss: 0.6236 - val_accuracy: 0.6252\n",
      "Epoch 40/300\n",
      "35/35 [==============================] - 2s 50ms/step - loss: 0.5300 - accuracy: 0.7123 - val_loss: 0.6145 - val_accuracy: 0.6391\n",
      "Epoch 41/300\n",
      "35/35 [==============================] - 2s 49ms/step - loss: 0.5288 - accuracy: 0.7111 - val_loss: 0.6185 - val_accuracy: 0.6395\n",
      "Epoch 42/300\n",
      "35/35 [==============================] - 2s 50ms/step - loss: 0.5178 - accuracy: 0.7213 - val_loss: 0.6305 - val_accuracy: 0.6373\n",
      "Epoch 43/300\n",
      "35/35 [==============================] - 2s 50ms/step - loss: 0.5131 - accuracy: 0.7265 - val_loss: 0.6291 - val_accuracy: 0.6375\n",
      "Epoch 44/300\n",
      "35/35 [==============================] - 2s 50ms/step - loss: 0.5103 - accuracy: 0.7245 - val_loss: 0.6756 - val_accuracy: 0.6121\n",
      "Epoch 45/300\n",
      "35/35 [==============================] - 2s 50ms/step - loss: 0.5039 - accuracy: 0.7312 - val_loss: 0.6319 - val_accuracy: 0.6402\n",
      "Epoch 46/300\n",
      "35/35 [==============================] - 2s 51ms/step - loss: 0.5085 - accuracy: 0.7274 - val_loss: 0.6481 - val_accuracy: 0.6311\n",
      "Epoch 47/300\n",
      "35/35 [==============================] - 2s 54ms/step - loss: 0.5007 - accuracy: 0.7297 - val_loss: 0.6382 - val_accuracy: 0.6454\n",
      "Epoch 48/300\n",
      "35/35 [==============================] - 2s 50ms/step - loss: 0.4939 - accuracy: 0.7373 - val_loss: 0.6610 - val_accuracy: 0.6412\n",
      "Epoch 49/300\n",
      "35/35 [==============================] - 2s 49ms/step - loss: 0.4902 - accuracy: 0.7356 - val_loss: 0.6591 - val_accuracy: 0.6404\n",
      "Epoch 50/300\n",
      "35/35 [==============================] - 2s 51ms/step - loss: 0.4883 - accuracy: 0.7392 - val_loss: 0.6780 - val_accuracy: 0.6308\n",
      "Epoch 51/300\n",
      "35/35 [==============================] - 2s 49ms/step - loss: 0.4864 - accuracy: 0.7393 - val_loss: 0.6911 - val_accuracy: 0.6379\n",
      "Epoch 52/300\n",
      "35/35 [==============================] - 2s 49ms/step - loss: 0.4788 - accuracy: 0.7433 - val_loss: 0.6508 - val_accuracy: 0.6400\n",
      "Epoch 53/300\n",
      "35/35 [==============================] - 2s 50ms/step - loss: 0.4796 - accuracy: 0.7425 - val_loss: 0.6750 - val_accuracy: 0.6453\n",
      "Epoch 54/300\n",
      "35/35 [==============================] - 2s 51ms/step - loss: 0.4727 - accuracy: 0.7488 - val_loss: 0.6831 - val_accuracy: 0.6402\n",
      "Epoch 55/300\n",
      "35/35 [==============================] - 2s 51ms/step - loss: 0.4700 - accuracy: 0.7490 - val_loss: 0.7382 - val_accuracy: 0.6339\n",
      "Epoch 56/300\n",
      "35/35 [==============================] - 2s 49ms/step - loss: 0.4694 - accuracy: 0.7499 - val_loss: 0.7020 - val_accuracy: 0.6397\n",
      "Epoch 57/300\n",
      "35/35 [==============================] - 2s 49ms/step - loss: 0.4669 - accuracy: 0.7530 - val_loss: 0.6984 - val_accuracy: 0.6408\n",
      "Epoch 58/300\n",
      "35/35 [==============================] - 2s 50ms/step - loss: 0.4654 - accuracy: 0.7497 - val_loss: 0.7331 - val_accuracy: 0.6373\n",
      "Epoch 59/300\n",
      "35/35 [==============================] - 2s 51ms/step - loss: 0.4622 - accuracy: 0.7543 - val_loss: 0.7377 - val_accuracy: 0.6410\n",
      "Epoch 60/300\n",
      "35/35 [==============================] - 2s 50ms/step - loss: 0.4613 - accuracy: 0.7523 - val_loss: 0.7448 - val_accuracy: 0.6387\n",
      "Epoch 61/300\n",
      "35/35 [==============================] - 2s 50ms/step - loss: 0.4569 - accuracy: 0.7568 - val_loss: 0.7231 - val_accuracy: 0.6365\n",
      "Epoch 62/300\n",
      "35/35 [==============================] - 2s 50ms/step - loss: 0.4556 - accuracy: 0.7587 - val_loss: 0.7301 - val_accuracy: 0.6381\n",
      "Epoch 63/300\n",
      "35/35 [==============================] - 2s 50ms/step - loss: 0.4557 - accuracy: 0.7570 - val_loss: 0.7621 - val_accuracy: 0.6415\n",
      "Epoch 64/300\n",
      "35/35 [==============================] - 2s 49ms/step - loss: 0.4509 - accuracy: 0.7615 - val_loss: 0.7878 - val_accuracy: 0.6379\n",
      "Epoch 65/300\n",
      "35/35 [==============================] - 2s 52ms/step - loss: 0.4492 - accuracy: 0.7606 - val_loss: 0.7570 - val_accuracy: 0.6377\n",
      "Epoch 66/300\n",
      "35/35 [==============================] - 2s 50ms/step - loss: 0.4469 - accuracy: 0.7630 - val_loss: 0.7830 - val_accuracy: 0.6394\n",
      "Epoch 67/300\n",
      "35/35 [==============================] - 2s 50ms/step - loss: 0.4471 - accuracy: 0.7636 - val_loss: 0.7921 - val_accuracy: 0.6407\n",
      "Epoch 68/300\n",
      "35/35 [==============================] - 2s 50ms/step - loss: 0.4427 - accuracy: 0.7645 - val_loss: 0.8408 - val_accuracy: 0.6410\n",
      "Epoch 69/300\n",
      "35/35 [==============================] - 2s 50ms/step - loss: 0.4410 - accuracy: 0.7650 - val_loss: 0.8152 - val_accuracy: 0.6389\n",
      "Epoch 70/300\n",
      "35/35 [==============================] - 2s 50ms/step - loss: 0.4403 - accuracy: 0.7651 - val_loss: 0.8041 - val_accuracy: 0.6419\n",
      "Epoch 71/300\n",
      "35/35 [==============================] - 2s 50ms/step - loss: 0.4380 - accuracy: 0.7660 - val_loss: 0.8029 - val_accuracy: 0.6387\n",
      "Epoch 72/300\n",
      "35/35 [==============================] - 2s 50ms/step - loss: 0.4352 - accuracy: 0.7669 - val_loss: 0.8198 - val_accuracy: 0.6405\n",
      "Epoch 73/300\n",
      "35/35 [==============================] - 2s 49ms/step - loss: 0.4366 - accuracy: 0.7663 - val_loss: 0.8811 - val_accuracy: 0.6350\n",
      "Epoch 74/300\n",
      "35/35 [==============================] - 2s 50ms/step - loss: 0.4327 - accuracy: 0.7720 - val_loss: 0.8349 - val_accuracy: 0.6416\n",
      "Epoch 75/300\n",
      "35/35 [==============================] - 2s 49ms/step - loss: 0.4293 - accuracy: 0.7717 - val_loss: 0.8538 - val_accuracy: 0.6421\n",
      "Epoch 76/300\n",
      "35/35 [==============================] - 2s 49ms/step - loss: 0.4302 - accuracy: 0.7707 - val_loss: 0.8508 - val_accuracy: 0.6429\n",
      "Epoch 77/300\n",
      "35/35 [==============================] - 2s 50ms/step - loss: 0.4278 - accuracy: 0.7725 - val_loss: 0.8133 - val_accuracy: 0.6387\n",
      "Epoch 78/300\n",
      "35/35 [==============================] - 2s 50ms/step - loss: 0.4278 - accuracy: 0.7741 - val_loss: 0.8008 - val_accuracy: 0.6381\n",
      "Epoch 79/300\n",
      "35/35 [==============================] - 2s 49ms/step - loss: 0.4247 - accuracy: 0.7733 - val_loss: 0.8680 - val_accuracy: 0.6450\n",
      "Epoch 80/300\n",
      "35/35 [==============================] - 2s 50ms/step - loss: 0.4241 - accuracy: 0.7753 - val_loss: 0.8351 - val_accuracy: 0.6382\n",
      "Epoch 81/300\n",
      "35/35 [==============================] - 2s 50ms/step - loss: 0.4212 - accuracy: 0.7755 - val_loss: 0.9075 - val_accuracy: 0.6413\n",
      "Epoch 82/300\n",
      "35/35 [==============================] - 2s 50ms/step - loss: 0.4185 - accuracy: 0.7773 - val_loss: 0.9381 - val_accuracy: 0.6426\n",
      "Epoch 83/300\n",
      "35/35 [==============================] - 2s 53ms/step - loss: 0.4210 - accuracy: 0.7782 - val_loss: 0.9651 - val_accuracy: 0.6481\n",
      "Epoch 84/300\n",
      "35/35 [==============================] - 2s 50ms/step - loss: 0.4182 - accuracy: 0.7782 - val_loss: 0.9453 - val_accuracy: 0.6432\n",
      "Epoch 85/300\n",
      "35/35 [==============================] - 2s 49ms/step - loss: 0.4155 - accuracy: 0.7807 - val_loss: 0.8896 - val_accuracy: 0.6457\n",
      "Epoch 86/300\n",
      "35/35 [==============================] - 2s 49ms/step - loss: 0.4146 - accuracy: 0.7804 - val_loss: 0.8724 - val_accuracy: 0.6453\n",
      "Epoch 87/300\n",
      "35/35 [==============================] - 2s 50ms/step - loss: 0.4129 - accuracy: 0.7825 - val_loss: 0.9707 - val_accuracy: 0.6473\n",
      "Epoch 88/300\n",
      "35/35 [==============================] - 2s 53ms/step - loss: 0.4125 - accuracy: 0.7809 - val_loss: 0.9395 - val_accuracy: 0.6484\n",
      "Epoch 89/300\n",
      "35/35 [==============================] - 2s 49ms/step - loss: 0.4122 - accuracy: 0.7822 - val_loss: 0.9316 - val_accuracy: 0.6463\n",
      "Epoch 90/300\n",
      "35/35 [==============================] - 2s 52ms/step - loss: 0.4111 - accuracy: 0.7820 - val_loss: 0.9127 - val_accuracy: 0.6497\n",
      "Epoch 91/300\n",
      "35/35 [==============================] - 2s 50ms/step - loss: 0.4091 - accuracy: 0.7858 - val_loss: 0.9231 - val_accuracy: 0.6457\n",
      "Epoch 92/300\n",
      "35/35 [==============================] - 2s 49ms/step - loss: 0.4072 - accuracy: 0.7845 - val_loss: 0.9318 - val_accuracy: 0.6443\n",
      "Epoch 93/300\n",
      "35/35 [==============================] - 2s 49ms/step - loss: 0.4062 - accuracy: 0.7858 - val_loss: 0.9914 - val_accuracy: 0.6480\n",
      "Epoch 94/300\n",
      "35/35 [==============================] - 2s 49ms/step - loss: 0.4057 - accuracy: 0.7861 - val_loss: 0.9747 - val_accuracy: 0.6487\n",
      "Epoch 95/300\n",
      "35/35 [==============================] - 2s 50ms/step - loss: 0.4044 - accuracy: 0.7855 - val_loss: 0.9603 - val_accuracy: 0.6432\n",
      "Epoch 96/300\n",
      "35/35 [==============================] - 2s 49ms/step - loss: 0.4037 - accuracy: 0.7880 - val_loss: 1.0121 - val_accuracy: 0.6436\n",
      "Epoch 97/300\n",
      "35/35 [==============================] - 2s 49ms/step - loss: 0.4002 - accuracy: 0.7900 - val_loss: 1.0454 - val_accuracy: 0.6440\n",
      "Epoch 98/300\n",
      "35/35 [==============================] - 2s 49ms/step - loss: 0.4030 - accuracy: 0.7847 - val_loss: 0.9775 - val_accuracy: 0.6481\n",
      "Epoch 99/300\n",
      "35/35 [==============================] - 2s 49ms/step - loss: 0.3997 - accuracy: 0.7873 - val_loss: 0.9807 - val_accuracy: 0.6441\n",
      "Epoch 100/300\n",
      "35/35 [==============================] - 2s 50ms/step - loss: 0.3976 - accuracy: 0.7920 - val_loss: 1.0471 - val_accuracy: 0.6487\n",
      "Epoch 101/300\n",
      "35/35 [==============================] - 2s 50ms/step - loss: 0.3996 - accuracy: 0.7917 - val_loss: 1.0560 - val_accuracy: 0.6464\n",
      "Epoch 102/300\n",
      "35/35 [==============================] - 2s 49ms/step - loss: 0.3943 - accuracy: 0.7926 - val_loss: 1.0564 - val_accuracy: 0.6491\n",
      "Epoch 103/300\n",
      "35/35 [==============================] - 2s 51ms/step - loss: 0.3956 - accuracy: 0.7935 - val_loss: 0.9241 - val_accuracy: 0.6515\n",
      "Epoch 104/300\n",
      "35/35 [==============================] - 2s 49ms/step - loss: 0.3944 - accuracy: 0.7936 - val_loss: 1.0880 - val_accuracy: 0.6470\n",
      "Epoch 105/300\n",
      "35/35 [==============================] - 2s 49ms/step - loss: 0.3913 - accuracy: 0.7944 - val_loss: 0.9892 - val_accuracy: 0.6512\n",
      "Epoch 106/300\n",
      "35/35 [==============================] - 2s 49ms/step - loss: 0.3940 - accuracy: 0.7934 - val_loss: 1.0424 - val_accuracy: 0.6498\n",
      "Epoch 107/300\n",
      "35/35 [==============================] - 2s 52ms/step - loss: 0.3938 - accuracy: 0.7939 - val_loss: 1.0895 - val_accuracy: 0.6516\n",
      "Epoch 108/300\n",
      "35/35 [==============================] - 2s 53ms/step - loss: 0.3911 - accuracy: 0.7939 - val_loss: 1.0832 - val_accuracy: 0.6517\n",
      "Epoch 109/300\n",
      "35/35 [==============================] - 2s 49ms/step - loss: 0.3895 - accuracy: 0.7959 - val_loss: 1.0215 - val_accuracy: 0.6487\n",
      "Epoch 110/300\n",
      "35/35 [==============================] - 2s 49ms/step - loss: 0.3887 - accuracy: 0.7965 - val_loss: 1.0737 - val_accuracy: 0.6493\n",
      "Epoch 111/300\n",
      "35/35 [==============================] - 2s 49ms/step - loss: 0.3878 - accuracy: 0.7957 - val_loss: 1.1014 - val_accuracy: 0.6501\n",
      "Epoch 112/300\n",
      "35/35 [==============================] - 2s 49ms/step - loss: 0.3865 - accuracy: 0.7982 - val_loss: 1.1438 - val_accuracy: 0.6473\n",
      "Epoch 113/300\n",
      "35/35 [==============================] - 2s 49ms/step - loss: 0.3839 - accuracy: 0.7995 - val_loss: 1.1609 - val_accuracy: 0.6463\n",
      "Epoch 114/300\n",
      "35/35 [==============================] - 2s 49ms/step - loss: 0.3858 - accuracy: 0.8001 - val_loss: 1.1137 - val_accuracy: 0.6463\n",
      "Epoch 115/300\n",
      "35/35 [==============================] - 2s 49ms/step - loss: 0.3858 - accuracy: 0.7983 - val_loss: 1.1514 - val_accuracy: 0.6450\n",
      "Epoch 116/300\n",
      "35/35 [==============================] - 2s 49ms/step - loss: 0.3826 - accuracy: 0.7994 - val_loss: 1.1116 - val_accuracy: 0.6495\n",
      "Epoch 117/300\n",
      "35/35 [==============================] - 2s 50ms/step - loss: 0.3824 - accuracy: 0.7998 - val_loss: 1.1130 - val_accuracy: 0.6502\n",
      "Epoch 118/300\n",
      "35/35 [==============================] - 2s 55ms/step - loss: 0.3819 - accuracy: 0.7989 - val_loss: 1.1024 - val_accuracy: 0.6543\n",
      "Epoch 119/300\n",
      "35/35 [==============================] - 2s 50ms/step - loss: 0.3819 - accuracy: 0.7998 - val_loss: 1.1388 - val_accuracy: 0.6526\n",
      "Epoch 120/300\n",
      "35/35 [==============================] - 2s 49ms/step - loss: 0.3791 - accuracy: 0.8007 - val_loss: 1.1546 - val_accuracy: 0.6526\n",
      "Epoch 121/300\n",
      "35/35 [==============================] - 2s 53ms/step - loss: 0.3788 - accuracy: 0.8011 - val_loss: 1.1713 - val_accuracy: 0.6558\n",
      "Epoch 122/300\n",
      "35/35 [==============================] - 2s 50ms/step - loss: 0.3794 - accuracy: 0.8014 - val_loss: 1.1167 - val_accuracy: 0.6525\n",
      "Epoch 123/300\n",
      "35/35 [==============================] - 2s 50ms/step - loss: 0.3769 - accuracy: 0.8029 - val_loss: 1.1566 - val_accuracy: 0.6477\n",
      "Epoch 124/300\n",
      "35/35 [==============================] - 2s 49ms/step - loss: 0.3754 - accuracy: 0.8037 - val_loss: 1.1723 - val_accuracy: 0.6557\n",
      "Epoch 125/300\n",
      "35/35 [==============================] - 2s 49ms/step - loss: 0.3751 - accuracy: 0.8040 - val_loss: 1.1389 - val_accuracy: 0.6496\n",
      "Epoch 126/300\n",
      "35/35 [==============================] - 2s 53ms/step - loss: 0.3758 - accuracy: 0.8044 - val_loss: 1.1752 - val_accuracy: 0.6559\n",
      "Epoch 127/300\n",
      "35/35 [==============================] - 2s 50ms/step - loss: 0.3764 - accuracy: 0.8055 - val_loss: 1.2161 - val_accuracy: 0.6474\n",
      "Epoch 128/300\n",
      "35/35 [==============================] - 2s 50ms/step - loss: 0.3736 - accuracy: 0.8046 - val_loss: 1.2081 - val_accuracy: 0.6552\n",
      "Epoch 129/300\n",
      "35/35 [==============================] - 2s 50ms/step - loss: 0.3726 - accuracy: 0.8032 - val_loss: 1.2746 - val_accuracy: 0.6474\n",
      "Epoch 130/300\n",
      "35/35 [==============================] - 2s 49ms/step - loss: 0.3734 - accuracy: 0.8052 - val_loss: 1.2346 - val_accuracy: 0.6511\n",
      "Epoch 131/300\n",
      "35/35 [==============================] - 2s 49ms/step - loss: 0.3709 - accuracy: 0.8054 - val_loss: 1.2620 - val_accuracy: 0.6533\n",
      "Epoch 132/300\n",
      "35/35 [==============================] - 2s 49ms/step - loss: 0.3710 - accuracy: 0.8057 - val_loss: 1.1476 - val_accuracy: 0.6503\n",
      "Epoch 133/300\n",
      "35/35 [==============================] - 2s 49ms/step - loss: 0.3677 - accuracy: 0.8078 - val_loss: 1.2253 - val_accuracy: 0.6479\n",
      "Epoch 134/300\n",
      "35/35 [==============================] - 2s 49ms/step - loss: 0.3709 - accuracy: 0.8054 - val_loss: 1.2334 - val_accuracy: 0.6477\n",
      "Epoch 135/300\n",
      "35/35 [==============================] - 2s 49ms/step - loss: 0.3665 - accuracy: 0.8079 - val_loss: 1.2743 - val_accuracy: 0.6452\n",
      "Epoch 136/300\n",
      "35/35 [==============================] - 2s 50ms/step - loss: 0.3689 - accuracy: 0.8071 - val_loss: 1.2604 - val_accuracy: 0.6512\n",
      "Epoch 137/300\n",
      "35/35 [==============================] - 2s 50ms/step - loss: 0.3669 - accuracy: 0.8084 - val_loss: 1.1990 - val_accuracy: 0.6541\n",
      "Epoch 138/300\n",
      "35/35 [==============================] - 2s 50ms/step - loss: 0.3674 - accuracy: 0.8084 - val_loss: 1.2379 - val_accuracy: 0.6530\n",
      "Epoch 139/300\n",
      "35/35 [==============================] - 2s 50ms/step - loss: 0.3654 - accuracy: 0.8095 - val_loss: 1.1700 - val_accuracy: 0.6510\n",
      "Epoch 140/300\n",
      "35/35 [==============================] - 2s 50ms/step - loss: 0.3661 - accuracy: 0.8096 - val_loss: 1.3253 - val_accuracy: 0.6533\n",
      "Epoch 141/300\n",
      "35/35 [==============================] - 2s 49ms/step - loss: 0.3642 - accuracy: 0.8109 - val_loss: 1.2466 - val_accuracy: 0.6510\n",
      "Epoch 142/300\n",
      "35/35 [==============================] - 2s 49ms/step - loss: 0.3643 - accuracy: 0.8116 - val_loss: 1.2300 - val_accuracy: 0.6539\n",
      "Epoch 143/300\n",
      "35/35 [==============================] - 2s 50ms/step - loss: 0.3613 - accuracy: 0.8110 - val_loss: 1.3220 - val_accuracy: 0.6544\n",
      "Epoch 144/300\n",
      "35/35 [==============================] - 2s 49ms/step - loss: 0.3633 - accuracy: 0.8112 - val_loss: 1.1872 - val_accuracy: 0.6512\n",
      "Epoch 145/300\n",
      "35/35 [==============================] - 2s 49ms/step - loss: 0.3617 - accuracy: 0.8124 - val_loss: 1.2803 - val_accuracy: 0.6527\n",
      "Epoch 146/300\n",
      "35/35 [==============================] - 2s 48ms/step - loss: 0.3623 - accuracy: 0.8130 - val_loss: 1.2820 - val_accuracy: 0.6541\n",
      "Epoch 147/300\n",
      "35/35 [==============================] - 2s 49ms/step - loss: 0.3584 - accuracy: 0.8149 - val_loss: 1.4331 - val_accuracy: 0.6535\n",
      "Epoch 148/300\n",
      "35/35 [==============================] - 2s 49ms/step - loss: 0.3576 - accuracy: 0.8143 - val_loss: 1.2832 - val_accuracy: 0.6534\n",
      "Epoch 149/300\n",
      "35/35 [==============================] - 2s 49ms/step - loss: 0.3581 - accuracy: 0.8143 - val_loss: 1.3455 - val_accuracy: 0.6529\n",
      "Epoch 150/300\n",
      "35/35 [==============================] - 2s 50ms/step - loss: 0.3572 - accuracy: 0.8130 - val_loss: 1.3426 - val_accuracy: 0.6512\n",
      "Epoch 151/300\n",
      "35/35 [==============================] - 2s 49ms/step - loss: 0.3556 - accuracy: 0.8156 - val_loss: 1.3277 - val_accuracy: 0.6524\n",
      "Epoch 152/300\n",
      "35/35 [==============================] - 2s 49ms/step - loss: 0.3585 - accuracy: 0.8134 - val_loss: 1.2575 - val_accuracy: 0.6548\n",
      "Epoch 153/300\n",
      "35/35 [==============================] - 2s 49ms/step - loss: 0.3553 - accuracy: 0.8169 - val_loss: 1.3588 - val_accuracy: 0.6527\n",
      "Epoch 154/300\n",
      "35/35 [==============================] - 2s 49ms/step - loss: 0.3539 - accuracy: 0.8154 - val_loss: 1.2002 - val_accuracy: 0.6511\n",
      "Epoch 155/300\n",
      "35/35 [==============================] - 2s 50ms/step - loss: 0.3562 - accuracy: 0.8150 - val_loss: 1.3248 - val_accuracy: 0.6556\n",
      "Epoch 156/300\n",
      "35/35 [==============================] - 2s 50ms/step - loss: 0.3530 - accuracy: 0.8202 - val_loss: 1.3460 - val_accuracy: 0.6536\n",
      "Epoch 157/300\n",
      "35/35 [==============================] - 2s 49ms/step - loss: 0.3527 - accuracy: 0.8155 - val_loss: 1.3203 - val_accuracy: 0.6495\n",
      "Epoch 158/300\n",
      "35/35 [==============================] - 2s 50ms/step - loss: 0.3527 - accuracy: 0.8175 - val_loss: 1.2759 - val_accuracy: 0.6503\n",
      "Epoch 159/300\n",
      "35/35 [==============================] - 2s 50ms/step - loss: 0.3521 - accuracy: 0.8171 - val_loss: 1.3343 - val_accuracy: 0.6550\n",
      "Epoch 160/300\n",
      "35/35 [==============================] - 2s 52ms/step - loss: 0.3500 - accuracy: 0.8204 - val_loss: 1.2686 - val_accuracy: 0.6563\n",
      "Epoch 161/300\n",
      "35/35 [==============================] - 2s 49ms/step - loss: 0.3521 - accuracy: 0.8170 - val_loss: 1.3021 - val_accuracy: 0.6545\n",
      "Epoch 162/300\n",
      "35/35 [==============================] - 2s 49ms/step - loss: 0.3478 - accuracy: 0.8218 - val_loss: 1.3538 - val_accuracy: 0.6563\n",
      "Epoch 163/300\n",
      "35/35 [==============================] - 2s 49ms/step - loss: 0.3471 - accuracy: 0.8205 - val_loss: 1.2802 - val_accuracy: 0.6549\n",
      "Epoch 164/300\n",
      "35/35 [==============================] - 2s 49ms/step - loss: 0.3498 - accuracy: 0.8195 - val_loss: 1.3405 - val_accuracy: 0.6552\n",
      "Epoch 165/300\n",
      "35/35 [==============================] - 2s 52ms/step - loss: 0.3465 - accuracy: 0.8205 - val_loss: 1.3705 - val_accuracy: 0.6574\n",
      "Epoch 166/300\n",
      "35/35 [==============================] - 2s 50ms/step - loss: 0.3462 - accuracy: 0.8227 - val_loss: 1.3539 - val_accuracy: 0.6566\n",
      "Epoch 167/300\n",
      "35/35 [==============================] - 2s 48ms/step - loss: 0.3467 - accuracy: 0.8222 - val_loss: 1.4041 - val_accuracy: 0.6573\n",
      "Epoch 168/300\n",
      "35/35 [==============================] - 2s 49ms/step - loss: 0.3450 - accuracy: 0.8248 - val_loss: 1.4362 - val_accuracy: 0.6537\n",
      "Epoch 169/300\n",
      "35/35 [==============================] - 2s 50ms/step - loss: 0.3450 - accuracy: 0.8224 - val_loss: 1.3504 - val_accuracy: 0.6560\n",
      "Epoch 170/300\n",
      "35/35 [==============================] - 2s 49ms/step - loss: 0.3456 - accuracy: 0.8217 - val_loss: 1.2659 - val_accuracy: 0.6521\n",
      "Epoch 171/300\n",
      "35/35 [==============================] - 2s 49ms/step - loss: 0.3464 - accuracy: 0.8212 - val_loss: 1.2208 - val_accuracy: 0.6566\n",
      "Epoch 172/300\n",
      "35/35 [==============================] - 2s 52ms/step - loss: 0.3450 - accuracy: 0.8217 - val_loss: 1.3271 - val_accuracy: 0.6588\n",
      "Epoch 173/300\n",
      "35/35 [==============================] - 2s 49ms/step - loss: 0.3458 - accuracy: 0.8211 - val_loss: 1.2596 - val_accuracy: 0.6563\n",
      "Epoch 174/300\n",
      "35/35 [==============================] - 2s 49ms/step - loss: 0.3414 - accuracy: 0.8253 - val_loss: 1.3979 - val_accuracy: 0.6543\n",
      "Epoch 175/300\n",
      "35/35 [==============================] - 2s 49ms/step - loss: 0.3450 - accuracy: 0.8203 - val_loss: 1.2958 - val_accuracy: 0.6538\n",
      "Epoch 176/300\n",
      "35/35 [==============================] - 2s 50ms/step - loss: 0.3404 - accuracy: 0.8260 - val_loss: 1.3640 - val_accuracy: 0.6555\n",
      "Epoch 177/300\n",
      "35/35 [==============================] - 2s 50ms/step - loss: 0.3398 - accuracy: 0.8246 - val_loss: 1.4281 - val_accuracy: 0.6569\n",
      "Epoch 178/300\n",
      "35/35 [==============================] - 2s 49ms/step - loss: 0.3419 - accuracy: 0.8238 - val_loss: 1.4131 - val_accuracy: 0.6491\n",
      "Epoch 179/300\n",
      "35/35 [==============================] - 2s 50ms/step - loss: 0.3388 - accuracy: 0.8269 - val_loss: 1.3430 - val_accuracy: 0.6540\n",
      "Epoch 180/300\n",
      "35/35 [==============================] - 2s 50ms/step - loss: 0.3379 - accuracy: 0.8285 - val_loss: 1.3101 - val_accuracy: 0.6550\n",
      "Epoch 181/300\n",
      "35/35 [==============================] - 2s 49ms/step - loss: 0.3389 - accuracy: 0.8274 - val_loss: 1.3041 - val_accuracy: 0.6500\n",
      "Epoch 182/300\n",
      "35/35 [==============================] - 2s 49ms/step - loss: 0.3353 - accuracy: 0.8270 - val_loss: 1.4797 - val_accuracy: 0.6587\n",
      "Epoch 183/300\n",
      "35/35 [==============================] - 2s 49ms/step - loss: 0.3384 - accuracy: 0.8272 - val_loss: 1.3876 - val_accuracy: 0.6588\n",
      "Epoch 184/300\n",
      "35/35 [==============================] - 2s 52ms/step - loss: 0.3356 - accuracy: 0.8272 - val_loss: 1.3339 - val_accuracy: 0.6604\n",
      "Epoch 185/300\n",
      "35/35 [==============================] - 2s 49ms/step - loss: 0.3363 - accuracy: 0.8286 - val_loss: 1.3773 - val_accuracy: 0.6506\n",
      "Epoch 186/300\n",
      "35/35 [==============================] - 2s 49ms/step - loss: 0.3367 - accuracy: 0.8274 - val_loss: 1.3044 - val_accuracy: 0.6562\n",
      "Epoch 187/300\n",
      "35/35 [==============================] - 2s 52ms/step - loss: 0.3353 - accuracy: 0.8296 - val_loss: 1.4716 - val_accuracy: 0.6605\n",
      "Epoch 188/300\n",
      "35/35 [==============================] - 2s 49ms/step - loss: 0.3332 - accuracy: 0.8289 - val_loss: 1.4960 - val_accuracy: 0.6497\n",
      "Epoch 189/300\n",
      "35/35 [==============================] - 2s 49ms/step - loss: 0.3332 - accuracy: 0.8324 - val_loss: 1.4306 - val_accuracy: 0.6520\n",
      "Epoch 190/300\n",
      "35/35 [==============================] - 2s 49ms/step - loss: 0.3343 - accuracy: 0.8282 - val_loss: 1.4357 - val_accuracy: 0.6571\n",
      "Epoch 191/300\n",
      "35/35 [==============================] - 2s 49ms/step - loss: 0.3330 - accuracy: 0.8308 - val_loss: 1.3425 - val_accuracy: 0.6553\n",
      "Epoch 192/300\n",
      "35/35 [==============================] - 2s 49ms/step - loss: 0.3294 - accuracy: 0.8310 - val_loss: 1.5010 - val_accuracy: 0.6446\n",
      "Epoch 193/300\n",
      "35/35 [==============================] - 2s 50ms/step - loss: 0.3298 - accuracy: 0.8327 - val_loss: 1.4661 - val_accuracy: 0.6592\n",
      "Epoch 194/300\n",
      "35/35 [==============================] - 2s 50ms/step - loss: 0.3301 - accuracy: 0.8316 - val_loss: 1.4630 - val_accuracy: 0.6537\n",
      "Epoch 195/300\n",
      "35/35 [==============================] - 2s 49ms/step - loss: 0.3289 - accuracy: 0.8324 - val_loss: 1.3133 - val_accuracy: 0.6547\n",
      "Epoch 196/300\n",
      "35/35 [==============================] - 2s 49ms/step - loss: 0.3302 - accuracy: 0.8324 - val_loss: 1.4864 - val_accuracy: 0.6547\n",
      "Epoch 197/300\n",
      "35/35 [==============================] - 2s 48ms/step - loss: 0.3301 - accuracy: 0.8321 - val_loss: 1.4871 - val_accuracy: 0.6563\n",
      "Epoch 198/300\n",
      "35/35 [==============================] - 2s 48ms/step - loss: 0.3259 - accuracy: 0.8327 - val_loss: 1.4961 - val_accuracy: 0.6555\n",
      "Epoch 199/300\n",
      "35/35 [==============================] - 2s 49ms/step - loss: 0.3278 - accuracy: 0.8341 - val_loss: 1.4488 - val_accuracy: 0.6544\n",
      "Epoch 200/300\n",
      "35/35 [==============================] - 2s 48ms/step - loss: 0.3295 - accuracy: 0.8328 - val_loss: 1.3971 - val_accuracy: 0.6564\n",
      "Epoch 201/300\n",
      "35/35 [==============================] - 2s 49ms/step - loss: 0.3270 - accuracy: 0.8344 - val_loss: 1.5276 - val_accuracy: 0.6495\n",
      "Epoch 202/300\n",
      "35/35 [==============================] - 2s 49ms/step - loss: 0.3246 - accuracy: 0.8339 - val_loss: 1.4100 - val_accuracy: 0.6569\n",
      "Epoch 203/300\n",
      "35/35 [==============================] - 2s 49ms/step - loss: 0.3278 - accuracy: 0.8347 - val_loss: 1.5994 - val_accuracy: 0.6575\n",
      "Epoch 204/300\n",
      "35/35 [==============================] - 2s 48ms/step - loss: 0.3256 - accuracy: 0.8343 - val_loss: 1.3812 - val_accuracy: 0.6506\n",
      "Epoch 205/300\n",
      "35/35 [==============================] - 2s 49ms/step - loss: 0.3247 - accuracy: 0.8356 - val_loss: 1.4408 - val_accuracy: 0.6506\n",
      "Epoch 206/300\n",
      "35/35 [==============================] - 2s 48ms/step - loss: 0.3213 - accuracy: 0.8370 - val_loss: 1.5790 - val_accuracy: 0.6446\n",
      "Epoch 207/300\n",
      "35/35 [==============================] - 2s 49ms/step - loss: 0.3220 - accuracy: 0.8360 - val_loss: 1.3302 - val_accuracy: 0.6565\n",
      "Epoch 208/300\n",
      "35/35 [==============================] - 2s 49ms/step - loss: 0.3215 - accuracy: 0.8369 - val_loss: 1.4080 - val_accuracy: 0.6558\n",
      "Epoch 209/300\n",
      "35/35 [==============================] - 2s 48ms/step - loss: 0.3204 - accuracy: 0.8366 - val_loss: 1.4454 - val_accuracy: 0.6552\n",
      "Epoch 210/300\n",
      "35/35 [==============================] - 2s 49ms/step - loss: 0.3199 - accuracy: 0.8389 - val_loss: 1.4780 - val_accuracy: 0.6579\n",
      "Epoch 211/300\n",
      "35/35 [==============================] - 2s 49ms/step - loss: 0.3190 - accuracy: 0.8395 - val_loss: 1.5805 - val_accuracy: 0.6584\n",
      "Epoch 212/300\n",
      "35/35 [==============================] - 2s 49ms/step - loss: 0.3200 - accuracy: 0.8362 - val_loss: 1.4041 - val_accuracy: 0.6592\n",
      "Epoch 213/300\n",
      "35/35 [==============================] - 2s 48ms/step - loss: 0.3194 - accuracy: 0.8394 - val_loss: 1.4103 - val_accuracy: 0.6579\n",
      "Epoch 214/300\n",
      "35/35 [==============================] - 2s 49ms/step - loss: 0.3203 - accuracy: 0.8407 - val_loss: 1.4793 - val_accuracy: 0.6511\n",
      "Epoch 215/300\n",
      "35/35 [==============================] - 2s 49ms/step - loss: 0.3180 - accuracy: 0.8388 - val_loss: 1.6165 - val_accuracy: 0.6539\n",
      "Epoch 216/300\n",
      "35/35 [==============================] - 2s 49ms/step - loss: 0.3181 - accuracy: 0.8395 - val_loss: 1.4536 - val_accuracy: 0.6579\n",
      "Epoch 217/300\n",
      "35/35 [==============================] - 2s 48ms/step - loss: 0.3170 - accuracy: 0.8405 - val_loss: 1.3487 - val_accuracy: 0.6555\n",
      "Epoch 218/300\n",
      "35/35 [==============================] - 2s 48ms/step - loss: 0.3169 - accuracy: 0.8396 - val_loss: 1.4989 - val_accuracy: 0.6545\n",
      "Epoch 219/300\n",
      "35/35 [==============================] - 2s 49ms/step - loss: 0.3172 - accuracy: 0.8395 - val_loss: 1.5313 - val_accuracy: 0.6514\n",
      "Epoch 220/300\n",
      "35/35 [==============================] - 2s 49ms/step - loss: 0.3158 - accuracy: 0.8398 - val_loss: 1.6460 - val_accuracy: 0.6525\n",
      "Epoch 221/300\n",
      "35/35 [==============================] - 2s 49ms/step - loss: 0.3138 - accuracy: 0.8419 - val_loss: 1.5519 - val_accuracy: 0.6594\n",
      "Epoch 222/300\n",
      "35/35 [==============================] - 2s 49ms/step - loss: 0.3149 - accuracy: 0.8425 - val_loss: 1.3903 - val_accuracy: 0.6582\n",
      "Epoch 223/300\n",
      "35/35 [==============================] - 2s 49ms/step - loss: 0.3114 - accuracy: 0.8436 - val_loss: 1.6563 - val_accuracy: 0.6505\n",
      "Epoch 224/300\n",
      "35/35 [==============================] - 2s 49ms/step - loss: 0.3142 - accuracy: 0.8410 - val_loss: 1.4315 - val_accuracy: 0.6518\n",
      "Epoch 225/300\n",
      "35/35 [==============================] - 2s 49ms/step - loss: 0.3124 - accuracy: 0.8424 - val_loss: 1.4421 - val_accuracy: 0.6568\n",
      "Epoch 226/300\n",
      "35/35 [==============================] - 2s 52ms/step - loss: 0.3142 - accuracy: 0.8413 - val_loss: 1.5299 - val_accuracy: 0.6623\n",
      "Epoch 227/300\n",
      "35/35 [==============================] - 2s 49ms/step - loss: 0.3095 - accuracy: 0.8450 - val_loss: 1.5572 - val_accuracy: 0.6507\n",
      "Epoch 228/300\n",
      "35/35 [==============================] - 2s 49ms/step - loss: 0.3086 - accuracy: 0.8472 - val_loss: 1.4858 - val_accuracy: 0.6560\n",
      "Epoch 229/300\n",
      "35/35 [==============================] - 2s 49ms/step - loss: 0.3098 - accuracy: 0.8438 - val_loss: 1.6763 - val_accuracy: 0.6539\n",
      "Epoch 230/300\n",
      "35/35 [==============================] - 2s 49ms/step - loss: 0.3076 - accuracy: 0.8473 - val_loss: 1.6117 - val_accuracy: 0.6554\n",
      "Epoch 231/300\n",
      "35/35 [==============================] - 2s 49ms/step - loss: 0.3084 - accuracy: 0.8462 - val_loss: 1.6777 - val_accuracy: 0.6492\n",
      "Epoch 232/300\n",
      "35/35 [==============================] - 2s 49ms/step - loss: 0.3068 - accuracy: 0.8473 - val_loss: 1.4689 - val_accuracy: 0.6502\n",
      "Epoch 233/300\n",
      "35/35 [==============================] - 2s 49ms/step - loss: 0.3075 - accuracy: 0.8479 - val_loss: 1.6033 - val_accuracy: 0.6531\n",
      "Epoch 234/300\n",
      "35/35 [==============================] - 2s 50ms/step - loss: 0.3082 - accuracy: 0.8458 - val_loss: 1.4767 - val_accuracy: 0.6545\n",
      "Epoch 235/300\n",
      "35/35 [==============================] - 2s 48ms/step - loss: 0.3060 - accuracy: 0.8463 - val_loss: 1.7214 - val_accuracy: 0.6534\n",
      "Epoch 236/300\n",
      "35/35 [==============================] - 2s 49ms/step - loss: 0.3063 - accuracy: 0.8457 - val_loss: 1.4554 - val_accuracy: 0.6597\n",
      "Epoch 237/300\n",
      "35/35 [==============================] - 2s 48ms/step - loss: 0.3059 - accuracy: 0.8491 - val_loss: 1.5093 - val_accuracy: 0.6545\n",
      "Epoch 238/300\n",
      "35/35 [==============================] - 2s 49ms/step - loss: 0.3033 - accuracy: 0.8490 - val_loss: 1.6325 - val_accuracy: 0.6559\n",
      "Epoch 239/300\n",
      "35/35 [==============================] - 2s 49ms/step - loss: 0.3023 - accuracy: 0.8476 - val_loss: 1.7051 - val_accuracy: 0.6509\n",
      "Epoch 240/300\n",
      "35/35 [==============================] - 2s 48ms/step - loss: 0.3049 - accuracy: 0.8454 - val_loss: 1.5198 - val_accuracy: 0.6554\n",
      "Epoch 241/300\n",
      "35/35 [==============================] - 2s 49ms/step - loss: 0.3025 - accuracy: 0.8492 - val_loss: 1.4643 - val_accuracy: 0.6530\n",
      "Epoch 242/300\n",
      "35/35 [==============================] - 2s 49ms/step - loss: 0.3011 - accuracy: 0.8495 - val_loss: 1.6053 - val_accuracy: 0.6543\n",
      "Epoch 243/300\n",
      "35/35 [==============================] - 2s 50ms/step - loss: 0.3010 - accuracy: 0.8500 - val_loss: 1.6201 - val_accuracy: 0.6576\n",
      "Epoch 244/300\n",
      "35/35 [==============================] - 2s 49ms/step - loss: 0.3027 - accuracy: 0.8484 - val_loss: 1.5344 - val_accuracy: 0.6603\n",
      "Epoch 245/300\n",
      "35/35 [==============================] - 2s 49ms/step - loss: 0.3024 - accuracy: 0.8511 - val_loss: 1.4051 - val_accuracy: 0.6547\n",
      "Epoch 246/300\n",
      "35/35 [==============================] - 2s 49ms/step - loss: 0.3009 - accuracy: 0.8517 - val_loss: 1.5233 - val_accuracy: 0.6538\n",
      "Epoch 247/300\n",
      "35/35 [==============================] - 2s 49ms/step - loss: 0.2995 - accuracy: 0.8530 - val_loss: 1.5782 - val_accuracy: 0.6555\n",
      "Epoch 248/300\n",
      "35/35 [==============================] - 2s 48ms/step - loss: 0.2980 - accuracy: 0.8533 - val_loss: 1.5069 - val_accuracy: 0.6526\n",
      "Epoch 249/300\n",
      "35/35 [==============================] - 2s 49ms/step - loss: 0.3011 - accuracy: 0.8519 - val_loss: 1.7246 - val_accuracy: 0.6525\n",
      "Epoch 250/300\n",
      "35/35 [==============================] - 2s 49ms/step - loss: 0.2983 - accuracy: 0.8530 - val_loss: 1.5308 - val_accuracy: 0.6540\n",
      "Epoch 251/300\n",
      "35/35 [==============================] - 2s 49ms/step - loss: 0.2999 - accuracy: 0.8514 - val_loss: 1.5375 - val_accuracy: 0.6547\n",
      "Epoch 252/300\n",
      "35/35 [==============================] - 2s 49ms/step - loss: 0.2958 - accuracy: 0.8536 - val_loss: 1.5672 - val_accuracy: 0.6467\n",
      "Epoch 253/300\n",
      "35/35 [==============================] - 2s 49ms/step - loss: 0.2942 - accuracy: 0.8564 - val_loss: 1.6623 - val_accuracy: 0.6535\n",
      "Epoch 254/300\n",
      "35/35 [==============================] - 2s 49ms/step - loss: 0.2958 - accuracy: 0.8535 - val_loss: 1.4897 - val_accuracy: 0.6474\n",
      "Epoch 255/300\n",
      "35/35 [==============================] - 2s 49ms/step - loss: 0.2954 - accuracy: 0.8538 - val_loss: 1.6618 - val_accuracy: 0.6491\n",
      "Epoch 256/300\n",
      "35/35 [==============================] - 2s 48ms/step - loss: 0.2930 - accuracy: 0.8574 - val_loss: 1.7459 - val_accuracy: 0.6479\n",
      "Epoch 257/300\n",
      "35/35 [==============================] - 2s 48ms/step - loss: 0.2932 - accuracy: 0.8570 - val_loss: 1.5491 - val_accuracy: 0.6515\n",
      "Epoch 258/300\n",
      "35/35 [==============================] - 2s 49ms/step - loss: 0.2951 - accuracy: 0.8557 - val_loss: 1.7340 - val_accuracy: 0.6560\n",
      "Epoch 259/300\n",
      "35/35 [==============================] - 2s 49ms/step - loss: 0.2951 - accuracy: 0.8549 - val_loss: 1.6761 - val_accuracy: 0.6528\n",
      "Epoch 260/300\n",
      "35/35 [==============================] - 2s 49ms/step - loss: 0.2930 - accuracy: 0.8555 - val_loss: 1.6526 - val_accuracy: 0.6525\n",
      "Epoch 261/300\n",
      "35/35 [==============================] - 2s 48ms/step - loss: 0.2925 - accuracy: 0.8559 - val_loss: 1.6510 - val_accuracy: 0.6521\n",
      "Epoch 262/300\n",
      "35/35 [==============================] - 2s 48ms/step - loss: 0.2900 - accuracy: 0.8575 - val_loss: 1.6941 - val_accuracy: 0.6534\n",
      "Epoch 263/300\n",
      "35/35 [==============================] - 2s 49ms/step - loss: 0.2893 - accuracy: 0.8581 - val_loss: 1.7111 - val_accuracy: 0.6464\n",
      "Epoch 264/300\n",
      "35/35 [==============================] - 2s 49ms/step - loss: 0.2900 - accuracy: 0.8588 - val_loss: 1.5964 - val_accuracy: 0.6525\n",
      "Epoch 265/300\n",
      "35/35 [==============================] - 2s 49ms/step - loss: 0.2899 - accuracy: 0.8574 - val_loss: 1.7405 - val_accuracy: 0.6569\n",
      "Epoch 266/300\n",
      "35/35 [==============================] - 2s 48ms/step - loss: 0.2885 - accuracy: 0.8586 - val_loss: 1.8097 - val_accuracy: 0.6517\n",
      "Epoch 267/300\n",
      "35/35 [==============================] - 2s 48ms/step - loss: 0.2877 - accuracy: 0.8585 - val_loss: 1.5815 - val_accuracy: 0.6505\n",
      "Epoch 268/300\n",
      "35/35 [==============================] - 2s 48ms/step - loss: 0.2863 - accuracy: 0.8606 - val_loss: 1.5866 - val_accuracy: 0.6492\n",
      "Epoch 269/300\n",
      "35/35 [==============================] - 2s 48ms/step - loss: 0.2897 - accuracy: 0.8576 - val_loss: 1.5931 - val_accuracy: 0.6539\n",
      "Epoch 270/300\n",
      "35/35 [==============================] - 2s 48ms/step - loss: 0.2886 - accuracy: 0.8578 - val_loss: 1.6973 - val_accuracy: 0.6540\n",
      "Epoch 271/300\n",
      "35/35 [==============================] - 2s 49ms/step - loss: 0.2852 - accuracy: 0.8616 - val_loss: 1.6548 - val_accuracy: 0.6529\n",
      "Epoch 272/300\n",
      "35/35 [==============================] - 2s 49ms/step - loss: 0.2851 - accuracy: 0.8603 - val_loss: 1.5946 - val_accuracy: 0.6491\n",
      "Epoch 273/300\n",
      "35/35 [==============================] - 2s 50ms/step - loss: 0.2859 - accuracy: 0.8602 - val_loss: 1.7435 - val_accuracy: 0.6521\n",
      "Epoch 274/300\n",
      "35/35 [==============================] - 2s 49ms/step - loss: 0.2836 - accuracy: 0.8610 - val_loss: 1.6946 - val_accuracy: 0.6520\n",
      "Epoch 275/300\n",
      "35/35 [==============================] - 2s 49ms/step - loss: 0.2834 - accuracy: 0.8603 - val_loss: 1.5981 - val_accuracy: 0.6489\n",
      "Epoch 276/300\n",
      "35/35 [==============================] - 2s 48ms/step - loss: 0.2839 - accuracy: 0.8627 - val_loss: 1.5857 - val_accuracy: 0.6579\n"
     ]
    }
   ],
   "source": [
    "history = model.fit(x_train, y_train,\n",
    "          batch_size=batch_size,\n",
    "          epochs=epochs,validation_split=0.2,\n",
    "          shuffle=True, callbacks=callbacks_list)"
   ]
  },
  {
   "cell_type": "code",
   "execution_count": 9,
   "metadata": {},
   "outputs": [
    {
     "name": "stdout",
     "output_type": "stream",
     "text": [
      "Saved trained model at /GPUFS/sysu_jjzhang_1/xiongjh/YYYY_saved_models_T_32-32-64-64-128-128-512_e300/keras_cnn_trained_model_shallow.h5 \n",
      "529/529 [==============================] - 2s 4ms/step - loss: 0.5508 - accuracy: 0.7218\n",
      "Test loss: 0.5508469939231873\n",
      "Test accuracy: 0.7218347191810608\n"
     ]
    }
   ],
   "source": [
    "model_path = os.path.join(save_dir, model_name)\n",
    "model.save(model_path)\n",
    "print('Saved trained model at %s ' % model_path)\n",
    "# Score trained model.\n",
    "scores = model.evaluate(x_test, y_test, verbose=1)\n",
    "print('Test loss:', scores[0])\n",
    "print('Test accuracy:', scores[1])\n",
    "y_predict = model.predict(x_test)\n",
    "np.save(save_dir+'/end_y_test.npy',y_test)\n",
    "np.save(save_dir+'/end_y_predict.npy',y_predict)"
   ]
  },
  {
   "cell_type": "code",
   "execution_count": 35,
   "metadata": {},
   "outputs": [],
   "source": [
    "a = (y_predict>0.5).astype('int').flatten()"
   ]
  },
  {
   "cell_type": "code",
   "execution_count": 36,
   "metadata": {},
   "outputs": [
    {
     "name": "stdout",
     "output_type": "stream",
     "text": [
      "          0         1\n",
      "0  0.806597  0.193403\n",
      "1  0.362927  0.637073\n"
     ]
    },
    {
     "data": {
      "application/vnd.plotly.v1+json": {
       "config": {
        "plotlyServerURL": "https://plot.ly"
       },
       "data": [
        {
         "coloraxis": "coloraxis",
         "hovertemplate": "x: %{x}<br>y: %{y}<br>color: %{z}<extra></extra>",
         "name": "0",
         "type": "heatmap",
         "xaxis": "x",
         "yaxis": "y",
         "z": [
          [
           0.806596524411869,
           0.19340347558813098
          ],
          [
           0.36292705993616264,
           0.6370729400638373
          ]
         ]
        }
       ],
       "layout": {
        "autosize": true,
        "coloraxis": {
         "colorscale": [
          [
           0,
           "rgb(247,251,255)"
          ],
          [
           0.125,
           "rgb(222,235,247)"
          ],
          [
           0.25,
           "rgb(198,219,239)"
          ],
          [
           0.375,
           "rgb(158,202,225)"
          ],
          [
           0.5,
           "rgb(107,174,214)"
          ],
          [
           0.625,
           "rgb(66,146,198)"
          ],
          [
           0.75,
           "rgb(33,113,181)"
          ],
          [
           0.875,
           "rgb(8,81,156)"
          ],
          [
           1,
           "rgb(8,48,107)"
          ]
         ]
        },
        "margin": {
         "t": 60
        },
        "template": {
         "data": {
          "bar": [
           {
            "error_x": {
             "color": "#2a3f5f"
            },
            "error_y": {
             "color": "#2a3f5f"
            },
            "marker": {
             "line": {
              "color": "#E5ECF6",
              "width": 0.5
             }
            },
            "type": "bar"
           }
          ],
          "barpolar": [
           {
            "marker": {
             "line": {
              "color": "#E5ECF6",
              "width": 0.5
             }
            },
            "type": "barpolar"
           }
          ],
          "carpet": [
           {
            "aaxis": {
             "endlinecolor": "#2a3f5f",
             "gridcolor": "white",
             "linecolor": "white",
             "minorgridcolor": "white",
             "startlinecolor": "#2a3f5f"
            },
            "baxis": {
             "endlinecolor": "#2a3f5f",
             "gridcolor": "white",
             "linecolor": "white",
             "minorgridcolor": "white",
             "startlinecolor": "#2a3f5f"
            },
            "type": "carpet"
           }
          ],
          "choropleth": [
           {
            "colorbar": {
             "outlinewidth": 0,
             "ticks": ""
            },
            "type": "choropleth"
           }
          ],
          "contour": [
           {
            "colorbar": {
             "outlinewidth": 0,
             "ticks": ""
            },
            "colorscale": [
             [
              0,
              "#0d0887"
             ],
             [
              0.1111111111111111,
              "#46039f"
             ],
             [
              0.2222222222222222,
              "#7201a8"
             ],
             [
              0.3333333333333333,
              "#9c179e"
             ],
             [
              0.4444444444444444,
              "#bd3786"
             ],
             [
              0.5555555555555556,
              "#d8576b"
             ],
             [
              0.6666666666666666,
              "#ed7953"
             ],
             [
              0.7777777777777778,
              "#fb9f3a"
             ],
             [
              0.8888888888888888,
              "#fdca26"
             ],
             [
              1,
              "#f0f921"
             ]
            ],
            "type": "contour"
           }
          ],
          "contourcarpet": [
           {
            "colorbar": {
             "outlinewidth": 0,
             "ticks": ""
            },
            "type": "contourcarpet"
           }
          ],
          "heatmap": [
           {
            "colorbar": {
             "outlinewidth": 0,
             "ticks": ""
            },
            "colorscale": [
             [
              0,
              "#0d0887"
             ],
             [
              0.1111111111111111,
              "#46039f"
             ],
             [
              0.2222222222222222,
              "#7201a8"
             ],
             [
              0.3333333333333333,
              "#9c179e"
             ],
             [
              0.4444444444444444,
              "#bd3786"
             ],
             [
              0.5555555555555556,
              "#d8576b"
             ],
             [
              0.6666666666666666,
              "#ed7953"
             ],
             [
              0.7777777777777778,
              "#fb9f3a"
             ],
             [
              0.8888888888888888,
              "#fdca26"
             ],
             [
              1,
              "#f0f921"
             ]
            ],
            "type": "heatmap"
           }
          ],
          "heatmapgl": [
           {
            "colorbar": {
             "outlinewidth": 0,
             "ticks": ""
            },
            "colorscale": [
             [
              0,
              "#0d0887"
             ],
             [
              0.1111111111111111,
              "#46039f"
             ],
             [
              0.2222222222222222,
              "#7201a8"
             ],
             [
              0.3333333333333333,
              "#9c179e"
             ],
             [
              0.4444444444444444,
              "#bd3786"
             ],
             [
              0.5555555555555556,
              "#d8576b"
             ],
             [
              0.6666666666666666,
              "#ed7953"
             ],
             [
              0.7777777777777778,
              "#fb9f3a"
             ],
             [
              0.8888888888888888,
              "#fdca26"
             ],
             [
              1,
              "#f0f921"
             ]
            ],
            "type": "heatmapgl"
           }
          ],
          "histogram": [
           {
            "marker": {
             "colorbar": {
              "outlinewidth": 0,
              "ticks": ""
             }
            },
            "type": "histogram"
           }
          ],
          "histogram2d": [
           {
            "colorbar": {
             "outlinewidth": 0,
             "ticks": ""
            },
            "colorscale": [
             [
              0,
              "#0d0887"
             ],
             [
              0.1111111111111111,
              "#46039f"
             ],
             [
              0.2222222222222222,
              "#7201a8"
             ],
             [
              0.3333333333333333,
              "#9c179e"
             ],
             [
              0.4444444444444444,
              "#bd3786"
             ],
             [
              0.5555555555555556,
              "#d8576b"
             ],
             [
              0.6666666666666666,
              "#ed7953"
             ],
             [
              0.7777777777777778,
              "#fb9f3a"
             ],
             [
              0.8888888888888888,
              "#fdca26"
             ],
             [
              1,
              "#f0f921"
             ]
            ],
            "type": "histogram2d"
           }
          ],
          "histogram2dcontour": [
           {
            "colorbar": {
             "outlinewidth": 0,
             "ticks": ""
            },
            "colorscale": [
             [
              0,
              "#0d0887"
             ],
             [
              0.1111111111111111,
              "#46039f"
             ],
             [
              0.2222222222222222,
              "#7201a8"
             ],
             [
              0.3333333333333333,
              "#9c179e"
             ],
             [
              0.4444444444444444,
              "#bd3786"
             ],
             [
              0.5555555555555556,
              "#d8576b"
             ],
             [
              0.6666666666666666,
              "#ed7953"
             ],
             [
              0.7777777777777778,
              "#fb9f3a"
             ],
             [
              0.8888888888888888,
              "#fdca26"
             ],
             [
              1,
              "#f0f921"
             ]
            ],
            "type": "histogram2dcontour"
           }
          ],
          "mesh3d": [
           {
            "colorbar": {
             "outlinewidth": 0,
             "ticks": ""
            },
            "type": "mesh3d"
           }
          ],
          "parcoords": [
           {
            "line": {
             "colorbar": {
              "outlinewidth": 0,
              "ticks": ""
             }
            },
            "type": "parcoords"
           }
          ],
          "pie": [
           {
            "automargin": true,
            "type": "pie"
           }
          ],
          "scatter": [
           {
            "marker": {
             "colorbar": {
              "outlinewidth": 0,
              "ticks": ""
             }
            },
            "type": "scatter"
           }
          ],
          "scatter3d": [
           {
            "line": {
             "colorbar": {
              "outlinewidth": 0,
              "ticks": ""
             }
            },
            "marker": {
             "colorbar": {
              "outlinewidth": 0,
              "ticks": ""
             }
            },
            "type": "scatter3d"
           }
          ],
          "scattercarpet": [
           {
            "marker": {
             "colorbar": {
              "outlinewidth": 0,
              "ticks": ""
             }
            },
            "type": "scattercarpet"
           }
          ],
          "scattergeo": [
           {
            "marker": {
             "colorbar": {
              "outlinewidth": 0,
              "ticks": ""
             }
            },
            "type": "scattergeo"
           }
          ],
          "scattergl": [
           {
            "marker": {
             "colorbar": {
              "outlinewidth": 0,
              "ticks": ""
             }
            },
            "type": "scattergl"
           }
          ],
          "scattermapbox": [
           {
            "marker": {
             "colorbar": {
              "outlinewidth": 0,
              "ticks": ""
             }
            },
            "type": "scattermapbox"
           }
          ],
          "scatterpolar": [
           {
            "marker": {
             "colorbar": {
              "outlinewidth": 0,
              "ticks": ""
             }
            },
            "type": "scatterpolar"
           }
          ],
          "scatterpolargl": [
           {
            "marker": {
             "colorbar": {
              "outlinewidth": 0,
              "ticks": ""
             }
            },
            "type": "scatterpolargl"
           }
          ],
          "scatterternary": [
           {
            "marker": {
             "colorbar": {
              "outlinewidth": 0,
              "ticks": ""
             }
            },
            "type": "scatterternary"
           }
          ],
          "surface": [
           {
            "colorbar": {
             "outlinewidth": 0,
             "ticks": ""
            },
            "colorscale": [
             [
              0,
              "#0d0887"
             ],
             [
              0.1111111111111111,
              "#46039f"
             ],
             [
              0.2222222222222222,
              "#7201a8"
             ],
             [
              0.3333333333333333,
              "#9c179e"
             ],
             [
              0.4444444444444444,
              "#bd3786"
             ],
             [
              0.5555555555555556,
              "#d8576b"
             ],
             [
              0.6666666666666666,
              "#ed7953"
             ],
             [
              0.7777777777777778,
              "#fb9f3a"
             ],
             [
              0.8888888888888888,
              "#fdca26"
             ],
             [
              1,
              "#f0f921"
             ]
            ],
            "type": "surface"
           }
          ],
          "table": [
           {
            "cells": {
             "fill": {
              "color": "#EBF0F8"
             },
             "line": {
              "color": "white"
             }
            },
            "header": {
             "fill": {
              "color": "#C8D4E3"
             },
             "line": {
              "color": "white"
             }
            },
            "type": "table"
           }
          ]
         },
         "layout": {
          "annotationdefaults": {
           "arrowcolor": "#2a3f5f",
           "arrowhead": 0,
           "arrowwidth": 1
          },
          "autotypenumbers": "strict",
          "coloraxis": {
           "colorbar": {
            "outlinewidth": 0,
            "ticks": ""
           }
          },
          "colorscale": {
           "diverging": [
            [
             0,
             "#8e0152"
            ],
            [
             0.1,
             "#c51b7d"
            ],
            [
             0.2,
             "#de77ae"
            ],
            [
             0.3,
             "#f1b6da"
            ],
            [
             0.4,
             "#fde0ef"
            ],
            [
             0.5,
             "#f7f7f7"
            ],
            [
             0.6,
             "#e6f5d0"
            ],
            [
             0.7,
             "#b8e186"
            ],
            [
             0.8,
             "#7fbc41"
            ],
            [
             0.9,
             "#4d9221"
            ],
            [
             1,
             "#276419"
            ]
           ],
           "sequential": [
            [
             0,
             "#0d0887"
            ],
            [
             0.1111111111111111,
             "#46039f"
            ],
            [
             0.2222222222222222,
             "#7201a8"
            ],
            [
             0.3333333333333333,
             "#9c179e"
            ],
            [
             0.4444444444444444,
             "#bd3786"
            ],
            [
             0.5555555555555556,
             "#d8576b"
            ],
            [
             0.6666666666666666,
             "#ed7953"
            ],
            [
             0.7777777777777778,
             "#fb9f3a"
            ],
            [
             0.8888888888888888,
             "#fdca26"
            ],
            [
             1,
             "#f0f921"
            ]
           ],
           "sequentialminus": [
            [
             0,
             "#0d0887"
            ],
            [
             0.1111111111111111,
             "#46039f"
            ],
            [
             0.2222222222222222,
             "#7201a8"
            ],
            [
             0.3333333333333333,
             "#9c179e"
            ],
            [
             0.4444444444444444,
             "#bd3786"
            ],
            [
             0.5555555555555556,
             "#d8576b"
            ],
            [
             0.6666666666666666,
             "#ed7953"
            ],
            [
             0.7777777777777778,
             "#fb9f3a"
            ],
            [
             0.8888888888888888,
             "#fdca26"
            ],
            [
             1,
             "#f0f921"
            ]
           ]
          },
          "colorway": [
           "#636efa",
           "#EF553B",
           "#00cc96",
           "#ab63fa",
           "#FFA15A",
           "#19d3f3",
           "#FF6692",
           "#B6E880",
           "#FF97FF",
           "#FECB52"
          ],
          "font": {
           "color": "#2a3f5f"
          },
          "geo": {
           "bgcolor": "white",
           "lakecolor": "white",
           "landcolor": "#E5ECF6",
           "showlakes": true,
           "showland": true,
           "subunitcolor": "white"
          },
          "hoverlabel": {
           "align": "left"
          },
          "hovermode": "closest",
          "mapbox": {
           "style": "light"
          },
          "paper_bgcolor": "white",
          "plot_bgcolor": "#E5ECF6",
          "polar": {
           "angularaxis": {
            "gridcolor": "white",
            "linecolor": "white",
            "ticks": ""
           },
           "bgcolor": "#E5ECF6",
           "radialaxis": {
            "gridcolor": "white",
            "linecolor": "white",
            "ticks": ""
           }
          },
          "scene": {
           "xaxis": {
            "backgroundcolor": "#E5ECF6",
            "gridcolor": "white",
            "gridwidth": 2,
            "linecolor": "white",
            "showbackground": true,
            "ticks": "",
            "zerolinecolor": "white"
           },
           "yaxis": {
            "backgroundcolor": "#E5ECF6",
            "gridcolor": "white",
            "gridwidth": 2,
            "linecolor": "white",
            "showbackground": true,
            "ticks": "",
            "zerolinecolor": "white"
           },
           "zaxis": {
            "backgroundcolor": "#E5ECF6",
            "gridcolor": "white",
            "gridwidth": 2,
            "linecolor": "white",
            "showbackground": true,
            "ticks": "",
            "zerolinecolor": "white"
           }
          },
          "shapedefaults": {
           "line": {
            "color": "#2a3f5f"
           }
          },
          "ternary": {
           "aaxis": {
            "gridcolor": "white",
            "linecolor": "white",
            "ticks": ""
           },
           "baxis": {
            "gridcolor": "white",
            "linecolor": "white",
            "ticks": ""
           },
           "bgcolor": "#E5ECF6",
           "caxis": {
            "gridcolor": "white",
            "linecolor": "white",
            "ticks": ""
           }
          },
          "title": {
           "x": 0.05
          },
          "xaxis": {
           "automargin": true,
           "gridcolor": "white",
           "linecolor": "white",
           "ticks": "",
           "title": {
            "standoff": 15
           },
           "zerolinecolor": "white",
           "zerolinewidth": 2
          },
          "yaxis": {
           "automargin": true,
           "gridcolor": "white",
           "linecolor": "white",
           "ticks": "",
           "title": {
            "standoff": 15
           },
           "zerolinecolor": "white",
           "zerolinewidth": 2
          }
         }
        },
        "xaxis": {
         "anchor": "y",
         "autorange": true,
         "constrain": "domain",
         "domain": [
          0.3856088560885609,
          0.6143911439114391
         ],
         "range": [
          -0.5,
          1.5
         ],
         "scaleanchor": "y"
        },
        "yaxis": {
         "anchor": "x",
         "autorange": true,
         "constrain": "domain",
         "domain": [
          0.1372693726937269,
          0.8627306273062731
         ],
         "range": [
          1.5,
          -0.5
         ]
        }
       }
      },
      "image/png": "[encoded data removed]",
      "text/html": [
       "<div>                            <div id=\"ca07933a-0c31-4ab7-b4d5-a66fa0529be2\" class=\"plotly-graph-div\" style=\"height:525px; width:100%;\"></div>            <script type=\"text/javascript\">                require([\"plotly\"], function(Plotly) {                    window.PLOTLYENV=window.PLOTLYENV || {};                                    if (document.getElementById(\"ca07933a-0c31-4ab7-b4d5-a66fa0529be2\")) {                    Plotly.newPlot(                        \"ca07933a-0c31-4ab7-b4d5-a66fa0529be2\",                        [{\"coloraxis\": \"coloraxis\", \"hovertemplate\": \"x: %{x}<br>y: %{y}<br>color: %{z}<extra></extra>\", \"name\": \"0\", \"type\": \"heatmap\", \"xaxis\": \"x\", \"yaxis\": \"y\", \"z\": [[0.806596524411869, 0.19340347558813098], [0.36292705993616264, 0.6370729400638373]]}],                        {\"coloraxis\": {\"colorscale\": [[0.0, \"rgb(247,251,255)\"], [0.125, \"rgb(222,235,247)\"], [0.25, \"rgb(198,219,239)\"], [0.375, \"rgb(158,202,225)\"], [0.5, \"rgb(107,174,214)\"], [0.625, \"rgb(66,146,198)\"], [0.75, \"rgb(33,113,181)\"], [0.875, \"rgb(8,81,156)\"], [1.0, \"rgb(8,48,107)\"]]}, \"margin\": {\"t\": 60}, \"template\": {\"data\": {\"bar\": [{\"error_x\": {\"color\": \"#2a3f5f\"}, \"error_y\": {\"color\": \"#2a3f5f\"}, \"marker\": {\"line\": {\"color\": \"#E5ECF6\", \"width\": 0.5}}, \"type\": \"bar\"}], \"barpolar\": [{\"marker\": {\"line\": {\"color\": \"#E5ECF6\", \"width\": 0.5}}, \"type\": \"barpolar\"}], \"carpet\": [{\"aaxis\": {\"endlinecolor\": \"#2a3f5f\", \"gridcolor\": \"white\", \"linecolor\": \"white\", \"minorgridcolor\": \"white\", \"startlinecolor\": \"#2a3f5f\"}, \"baxis\": {\"endlinecolor\": \"#2a3f5f\", \"gridcolor\": \"white\", \"linecolor\": \"white\", \"minorgridcolor\": \"white\", \"startlinecolor\": \"#2a3f5f\"}, \"type\": \"carpet\"}], \"choropleth\": [{\"colorbar\": {\"outlinewidth\": 0, \"ticks\": \"\"}, \"type\": \"choropleth\"}], \"contour\": [{\"colorbar\": {\"outlinewidth\": 0, \"ticks\": \"\"}, \"colorscale\": [[0.0, \"#0d0887\"], [0.1111111111111111, \"#46039f\"], [0.2222222222222222, \"#7201a8\"], [0.3333333333333333, \"#9c179e\"], [0.4444444444444444, \"#bd3786\"], [0.5555555555555556, \"#d8576b\"], [0.6666666666666666, \"#ed7953\"], [0.7777777777777778, \"#fb9f3a\"], [0.8888888888888888, \"#fdca26\"], [1.0, \"#f0f921\"]], \"type\": \"contour\"}], \"contourcarpet\": [{\"colorbar\": {\"outlinewidth\": 0, \"ticks\": \"\"}, \"type\": \"contourcarpet\"}], \"heatmap\": [{\"colorbar\": {\"outlinewidth\": 0, \"ticks\": \"\"}, \"colorscale\": [[0.0, \"#0d0887\"], [0.1111111111111111, \"#46039f\"], [0.2222222222222222, \"#7201a8\"], [0.3333333333333333, \"#9c179e\"], [0.4444444444444444, \"#bd3786\"], [0.5555555555555556, \"#d8576b\"], [0.6666666666666666, \"#ed7953\"], [0.7777777777777778, \"#fb9f3a\"], [0.8888888888888888, \"#fdca26\"], [1.0, \"#f0f921\"]], \"type\": \"heatmap\"}], \"heatmapgl\": [{\"colorbar\": {\"outlinewidth\": 0, \"ticks\": \"\"}, \"colorscale\": [[0.0, \"#0d0887\"], [0.1111111111111111, \"#46039f\"], [0.2222222222222222, \"#7201a8\"], [0.3333333333333333, \"#9c179e\"], [0.4444444444444444, \"#bd3786\"], [0.5555555555555556, \"#d8576b\"], [0.6666666666666666, \"#ed7953\"], [0.7777777777777778, \"#fb9f3a\"], [0.8888888888888888, \"#fdca26\"], [1.0, \"#f0f921\"]], \"type\": \"heatmapgl\"}], \"histogram\": [{\"marker\": {\"colorbar\": {\"outlinewidth\": 0, \"ticks\": \"\"}}, \"type\": \"histogram\"}], \"histogram2d\": [{\"colorbar\": {\"outlinewidth\": 0, \"ticks\": \"\"}, \"colorscale\": [[0.0, \"#0d0887\"], [0.1111111111111111, \"#46039f\"], [0.2222222222222222, \"#7201a8\"], [0.3333333333333333, \"#9c179e\"], [0.4444444444444444, \"#bd3786\"], [0.5555555555555556, \"#d8576b\"], [0.6666666666666666, \"#ed7953\"], [0.7777777777777778, \"#fb9f3a\"], [0.8888888888888888, \"#fdca26\"], [1.0, \"#f0f921\"]], \"type\": \"histogram2d\"}], \"histogram2dcontour\": [{\"colorbar\": {\"outlinewidth\": 0, \"ticks\": \"\"}, \"colorscale\": [[0.0, \"#0d0887\"], [0.1111111111111111, \"#46039f\"], [0.2222222222222222, \"#7201a8\"], [0.3333333333333333, \"#9c179e\"], [0.4444444444444444, \"#bd3786\"], [0.5555555555555556, \"#d8576b\"], [0.6666666666666666, \"#ed7953\"], [0.7777777777777778, \"#fb9f3a\"], [0.8888888888888888, \"#fdca26\"], [1.0, \"#f0f921\"]], \"type\": \"histogram2dcontour\"}], \"mesh3d\": [{\"colorbar\": {\"outlinewidth\": 0, \"ticks\": \"\"}, \"type\": \"mesh3d\"}], \"parcoords\": [{\"line\": {\"colorbar\": {\"outlinewidth\": 0, \"ticks\": \"\"}}, \"type\": \"parcoords\"}], \"pie\": [{\"automargin\": true, \"type\": \"pie\"}], \"scatter\": [{\"marker\": {\"colorbar\": {\"outlinewidth\": 0, \"ticks\": \"\"}}, \"type\": \"scatter\"}], \"scatter3d\": [{\"line\": {\"colorbar\": {\"outlinewidth\": 0, \"ticks\": \"\"}}, \"marker\": {\"colorbar\": {\"outlinewidth\": 0, \"ticks\": \"\"}}, \"type\": \"scatter3d\"}], \"scattercarpet\": [{\"marker\": {\"colorbar\": {\"outlinewidth\": 0, \"ticks\": \"\"}}, \"type\": \"scattercarpet\"}], \"scattergeo\": [{\"marker\": {\"colorbar\": {\"outlinewidth\": 0, \"ticks\": \"\"}}, \"type\": \"scattergeo\"}], \"scattergl\": [{\"marker\": {\"colorbar\": {\"outlinewidth\": 0, \"ticks\": \"\"}}, \"type\": \"scattergl\"}], \"scattermapbox\": [{\"marker\": {\"colorbar\": {\"outlinewidth\": 0, \"ticks\": \"\"}}, \"type\": \"scattermapbox\"}], \"scatterpolar\": [{\"marker\": {\"colorbar\": {\"outlinewidth\": 0, \"ticks\": \"\"}}, \"type\": \"scatterpolar\"}], \"scatterpolargl\": [{\"marker\": {\"colorbar\": {\"outlinewidth\": 0, \"ticks\": \"\"}}, \"type\": \"scatterpolargl\"}], \"scatterternary\": [{\"marker\": {\"colorbar\": {\"outlinewidth\": 0, \"ticks\": \"\"}}, \"type\": \"scatterternary\"}], \"surface\": [{\"colorbar\": {\"outlinewidth\": 0, \"ticks\": \"\"}, \"colorscale\": [[0.0, \"#0d0887\"], [0.1111111111111111, \"#46039f\"], [0.2222222222222222, \"#7201a8\"], [0.3333333333333333, \"#9c179e\"], [0.4444444444444444, \"#bd3786\"], [0.5555555555555556, \"#d8576b\"], [0.6666666666666666, \"#ed7953\"], [0.7777777777777778, \"#fb9f3a\"], [0.8888888888888888, \"#fdca26\"], [1.0, \"#f0f921\"]], \"type\": \"surface\"}], \"table\": [{\"cells\": {\"fill\": {\"color\": \"#EBF0F8\"}, \"line\": {\"color\": \"white\"}}, \"header\": {\"fill\": {\"color\": \"#C8D4E3\"}, \"line\": {\"color\": \"white\"}}, \"type\": \"table\"}]}, \"layout\": {\"annotationdefaults\": {\"arrowcolor\": \"#2a3f5f\", \"arrowhead\": 0, \"arrowwidth\": 1}, \"autotypenumbers\": \"strict\", \"coloraxis\": {\"colorbar\": {\"outlinewidth\": 0, \"ticks\": \"\"}}, \"colorscale\": {\"diverging\": [[0, \"#8e0152\"], [0.1, \"#c51b7d\"], [0.2, \"#de77ae\"], [0.3, \"#f1b6da\"], [0.4, \"#fde0ef\"], [0.5, \"#f7f7f7\"], [0.6, \"#e6f5d0\"], [0.7, \"#b8e186\"], [0.8, \"#7fbc41\"], [0.9, \"#4d9221\"], [1, \"#276419\"]], \"sequential\": [[0.0, \"#0d0887\"], [0.1111111111111111, \"#46039f\"], [0.2222222222222222, \"#7201a8\"], [0.3333333333333333, \"#9c179e\"], [0.4444444444444444, \"#bd3786\"], [0.5555555555555556, \"#d8576b\"], [0.6666666666666666, \"#ed7953\"], [0.7777777777777778, \"#fb9f3a\"], [0.8888888888888888, \"#fdca26\"], [1.0, \"#f0f921\"]], \"sequentialminus\": [[0.0, \"#0d0887\"], [0.1111111111111111, \"#46039f\"], [0.2222222222222222, \"#7201a8\"], [0.3333333333333333, \"#9c179e\"], [0.4444444444444444, \"#bd3786\"], [0.5555555555555556, \"#d8576b\"], [0.6666666666666666, \"#ed7953\"], [0.7777777777777778, \"#fb9f3a\"], [0.8888888888888888, \"#fdca26\"], [1.0, \"#f0f921\"]]}, \"colorway\": [\"#636efa\", \"#EF553B\", \"#00cc96\", \"#ab63fa\", \"#FFA15A\", \"#19d3f3\", \"#FF6692\", \"#B6E880\", \"#FF97FF\", \"#FECB52\"], \"font\": {\"color\": \"#2a3f5f\"}, \"geo\": {\"bgcolor\": \"white\", \"lakecolor\": \"white\", \"landcolor\": \"#E5ECF6\", \"showlakes\": true, \"showland\": true, \"subunitcolor\": \"white\"}, \"hoverlabel\": {\"align\": \"left\"}, \"hovermode\": \"closest\", \"mapbox\": {\"style\": \"light\"}, \"paper_bgcolor\": \"white\", \"plot_bgcolor\": \"#E5ECF6\", \"polar\": {\"angularaxis\": {\"gridcolor\": \"white\", \"linecolor\": \"white\", \"ticks\": \"\"}, \"bgcolor\": \"#E5ECF6\", \"radialaxis\": {\"gridcolor\": \"white\", \"linecolor\": \"white\", \"ticks\": \"\"}}, \"scene\": {\"xaxis\": {\"backgroundcolor\": \"#E5ECF6\", \"gridcolor\": \"white\", \"gridwidth\": 2, \"linecolor\": \"white\", \"showbackground\": true, \"ticks\": \"\", \"zerolinecolor\": \"white\"}, \"yaxis\": {\"backgroundcolor\": \"#E5ECF6\", \"gridcolor\": \"white\", \"gridwidth\": 2, \"linecolor\": \"white\", \"showbackground\": true, \"ticks\": \"\", \"zerolinecolor\": \"white\"}, \"zaxis\": {\"backgroundcolor\": \"#E5ECF6\", \"gridcolor\": \"white\", \"gridwidth\": 2, \"linecolor\": \"white\", \"showbackground\": true, \"ticks\": \"\", \"zerolinecolor\": \"white\"}}, \"shapedefaults\": {\"line\": {\"color\": \"#2a3f5f\"}}, \"ternary\": {\"aaxis\": {\"gridcolor\": \"white\", \"linecolor\": \"white\", \"ticks\": \"\"}, \"baxis\": {\"gridcolor\": \"white\", \"linecolor\": \"white\", \"ticks\": \"\"}, \"bgcolor\": \"#E5ECF6\", \"caxis\": {\"gridcolor\": \"white\", \"linecolor\": \"white\", \"ticks\": \"\"}}, \"title\": {\"x\": 0.05}, \"xaxis\": {\"automargin\": true, \"gridcolor\": \"white\", \"linecolor\": \"white\", \"ticks\": \"\", \"title\": {\"standoff\": 15}, \"zerolinecolor\": \"white\", \"zerolinewidth\": 2}, \"yaxis\": {\"automargin\": true, \"gridcolor\": \"white\", \"linecolor\": \"white\", \"ticks\": \"\", \"title\": {\"standoff\": 15}, \"zerolinecolor\": \"white\", \"zerolinewidth\": 2}}}, \"xaxis\": {\"anchor\": \"y\", \"constrain\": \"domain\", \"domain\": [0.0, 1.0], \"scaleanchor\": \"y\"}, \"yaxis\": {\"anchor\": \"x\", \"autorange\": \"reversed\", \"constrain\": \"domain\", \"domain\": [0.0, 1.0]}},                        {\"responsive\": true}                    ).then(function(){\n",
       "                            \n",
       "var gd = document.getElementById('ca07933a-0c31-4ab7-b4d5-a66fa0529be2');\n",
       "var x = new MutationObserver(function (mutations, observer) {{\n",
       "        var display = window.getComputedStyle(gd).display;\n",
       "        if (!display || display === 'none') {{\n",
       "            console.log([gd, 'removed!']);\n",
       "            Plotly.purge(gd);\n",
       "            observer.disconnect();\n",
       "        }}\n",
       "}});\n",
       "\n",
       "// Listen for the removal of the full notebook cells\n",
       "var notebookContainer = gd.closest('#notebook-container');\n",
       "if (notebookContainer) {{\n",
       "    x.observe(notebookContainer, {childList: true});\n",
       "}}\n",
       "\n",
       "// Listen for the clearing of the current output cell\n",
       "var outputEl = gd.closest('.output');\n",
       "if (outputEl) {{\n",
       "    x.observe(outputEl, {childList: true});\n",
       "}}\n",
       "\n",
       "                        })                };                });            </script>        </div>"
      ]
     },
     "metadata": {},
     "output_type": "display_data"
    }
   ],
   "source": [
    "from sklearn.metrics import confusion_matrix\n",
    "aaa = confusion_matrix(y_test, a)\n",
    "bbb = aaa/aaa.sum(axis=1)\n",
    "print(pd.DataFrame(bbb))\n",
    "fig = px.imshow(bbb, color_continuous_scale='blues')\n",
    "fig.show()"
   ]
  },
  {
   "cell_type": "code",
   "execution_count": 15,
   "metadata": {},
   "outputs": [
    {
     "data": {
      "image/png": "[encoded data removed]",
      "text/plain": [
       "<Figure size 1080x432 with 2 Axes>"
      ]
     },
     "metadata": {
      "needs_background": "light"
     },
     "output_type": "display_data"
    }
   ],
   "source": [
    "plt.figure(figsize=(15, 6))\n",
    "plt.subplot(1,2,1)\n",
    "plt.plot(history.history['accuracy'])\n",
    "plt.plot(history.history['val_accuracy'])\n",
    "plt.title('model accuracy')\n",
    "plt.ylabel('accuracy')\n",
    "plt.xlabel('epoch')\n",
    "plt.grid()\n",
    "plt.legend(['train', 'val'], loc='upper left')\n",
    "plt.subplot(1,2,2)\n",
    "plt.plot(history.history['loss'])\n",
    "plt.plot(history.history['val_loss'])\n",
    "plt.title('model loss')\n",
    "plt.ylabel('loss')\n",
    "plt.xlabel('epoch')\n",
    "plt.legend(['train', 'val'], loc='upper left')\n",
    "plt.grid()\n",
    "plt.show()"
   ]
  },
  {
   "cell_type": "code",
   "execution_count": 14,
   "metadata": {},
   "outputs": [
    {
     "name": "stdout",
     "output_type": "stream",
     "text": [
      "AUC: 0.8354603104163094\n"
     ]
    },
    {
     "data": {
      "text/plain": [
       "Text(0.5, 1.0, 'AUC:0.8354603104163094')"
      ]
     },
     "execution_count": 14,
     "metadata": {},
     "output_type": "execute_result"
    },
    {
     "data": {
      "image/png": "[encoded data removed]",
      "text/plain": [
       "<Figure size 576x432 with 1 Axes>"
      ]
     },
     "metadata": {
      "needs_background": "light"
     },
     "output_type": "display_data"
    }
   ],
   "source": [
    "plt.figure(figsize=(8, 6))\n",
    "fpr, tpr, thresholds = metrics.roc_curve(y_test, y_predict, pos_label=1)\n",
    "plt.plot(fpr, tpr)\n",
    "plt.grid()\n",
    "plt.plot([0, 1], [0, 1])\n",
    "plt.xlabel('FP')\n",
    "plt.ylabel('TP')\n",
    "plt.ylim([0, 1])\n",
    "plt.xlim([0, 1])\n",
    "auc = np.trapz(tpr, fpr)\n",
    "print('AUC:', auc)\n",
    "plt.title('AUC:' + str(auc))"
   ]
  },
  {
   "cell_type": "code",
   "execution_count": 16,
   "metadata": {},
   "outputs": [
    {
     "data": {
      "text/plain": [
       "<matplotlib.legend.Legend at 0x2ae3076f1128>"
      ]
     },
     "execution_count": 16,
     "metadata": {},
     "output_type": "execute_result"
    },
    {
     "data": {
      "image/png": "[encoded data removed]",
      "text/plain": [
       "<Figure size 720x720 with 1 Axes>"
      ]
     },
     "metadata": {
      "needs_background": "light"
     },
     "output_type": "display_data"
    }
   ],
   "source": [
    "fig = plt.figure(figsize=(10, 10))\n",
    "plt.plot([0, 1], [0, 1])\n",
    "plt.ylim([0, 1])\n",
    "plt.xlim([0, 1])\n",
    "plt.xlabel('FP')\n",
    "plt.ylabel('TP')\n",
    "# plt.grid()\n",
    "AUC_set = []\n",
    "y_testy = y_test\n",
    "y_predicty = y_predict\n",
    "tprs = []\n",
    "mean_fpr = np.linspace(0, 1, 100)\n",
    "s = open(save_dir + '/divided_AUCs1vs2.txt', 'w')\n",
    "for jj in range(len(count_set) - 1):  # len(count_set)-1):\n",
    "    if count_set[jj] < count_set[jj + 1]:\n",
    "        y_test_aaa = y_testy[count_set[jj]:count_set[jj + 1]]\n",
    "        y_predict_aaa = y_predicty[count_set[jj]:count_set[jj + 1]]\n",
    "        fpr, tpr, thresholds = metrics.roc_curve(y_test_aaa, y_predict_aaa, pos_label=1)\n",
    "        tprs.append(np.interp(mean_fpr, fpr, tpr))\n",
    "        tprs[-1][0] = 0.0\n",
    "        plt.plot(fpr, tpr, color='0.5', lw=0.1)\n",
    "        auc = np.trapz(tpr, fpr)\n",
    "        s.write(str(jj) + '\\t' + str(count_set[jj]) + '\\t' + str(count_set[jj + 1]) + '\\t' + str(auc) + '\\n')\n",
    "        AUC_set.append(auc)\n",
    "median_tpr = np.median(tprs, axis=0)\n",
    "mean_tpr = np.mean(tprs, axis=0)\n",
    "median_tpr[-1] = 1.0\n",
    "mean_tpr[-1] = 1.0\n",
    "per_tpr = np.percentile(tprs, [25, 50, 75], axis=0)\n",
    "median_auc = np.trapz(median_tpr, mean_fpr)\n",
    "mean_auc = np.trapz(mean_tpr, mean_fpr)\n",
    "plt.plot(mean_fpr, median_tpr, 'k', lw=3, label='median ROC')\n",
    "plt.title(f'{str(median_auc)}({str(mean_auc)})')\n",
    "plt.fill_between(mean_fpr, per_tpr[0, :], per_tpr[2, :], color='g', alpha=.2, label='Quartile')\n",
    "plt.legend(loc='lower right')"
   ]
  },
  {
   "cell_type": "code",
   "execution_count": 27,
   "metadata": {},
   "outputs": [],
   "source": [
    "gene_list = [['vim', 'zeb1'], ['vim', 'snai2'], ['vim', 'myc'], ['arid1a', 'zic1'], ['arid1a', 'sox1'], ['arid1a', 'map2']]\n",
    "x = []\n",
    "for (x_gene_name, y_gene_name) in gene_list:\n",
    "    x_tf_bulk = np.log10(rpkm_bulk[h_gene_list_bulk[x_gene_name]][0:249] + 10 ** -2)  ## 249 means the number of samples, users can just remove '[0:249]'\n",
    "    x_gene_bulk = np.log10(rpkm_bulk[h_gene_list_bulk[y_gene_name]][0:249] + 10 ** -2)\n",
    "    H_T_bulk = histogram2d(x_tf_bulk, x_gene_bulk, bins=32)\n",
    "    H_bulk= H_T_bulk[0].T\n",
    "    HT_bulk = (np.log10(H_bulk / 43261 + 10 ** -4) + 4)/4\n",
    "\n",
    "    x_tf = np.log10(rpkm[int(h_gene_list[x_gene_name])][0:43261] + 10 ** -2) # ## 43261 means the number of samples in the sc data, we also have one row that is sum of all cells, so the real size is 43262, that is why we use [0:43261]. For TF target prediction or other data, just remove \"[0:43261]\"\n",
    "    x_gene = np.log10(rpkm[int(h_gene_list[y_gene_name])][0:43261] + 10 ** -2)# For TF target prediction, remove \"[0:43261]\"\n",
    "    H_T = histogram2d(x_tf, x_gene, bins=32)\n",
    "    H = H_T[0].T\n",
    "    HT = (log10(H / 43261 + 10 ** -4) + 4) / 4\n",
    "    \n",
    "    x.append(concatenate((HT, HT_bulk), axis=0))\n",
    "    xx = array(x)[:, :, :, newaxis]\n"
   ]
  },
  {
   "cell_type": "code",
   "execution_count": 32,
   "metadata": {},
   "outputs": [
    {
     "data": {
      "text/plain": [
       "array([[0.26803064],\n",
       "       [0.2627669 ],\n",
       "       [0.544077  ],\n",
       "       [0.3435143 ],\n",
       "       [0.40076703],\n",
       "       [0.34280127]], dtype=float32)"
      ]
     },
     "execution_count": 32,
     "metadata": {},
     "output_type": "execute_result"
    }
   ],
   "source": [
    "model.predict(xx)"
   ]
  }
 ],
 "metadata": {
  "kernelspec": {
   "display_name": "Python 3",
   "language": "python",
   "name": "python3"
  },
  "language_info": {
   "codemirror_mode": {
    "name": "ipython",
    "version": 3
   },
   "file_extension": ".py",
   "mimetype": "text/x-python",
   "name": "python",
   "nbconvert_exporter": "python",
   "pygments_lexer": "ipython3",
   "version": "3.7.4"
  }
 },
 "nbformat": 4,
 "nbformat_minor": 5
}
